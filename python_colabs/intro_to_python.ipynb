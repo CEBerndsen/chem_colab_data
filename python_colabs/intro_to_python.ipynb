{
  "nbformat": 4,
  "nbformat_minor": 0,
  "metadata": {
    "colab": {
      "provenance": []
    },
    "kernelspec": {
      "name": "python3",
      "display_name": "Python 3"
    },
    "language_info": {
      "name": "python"
    }
  },
  "cells": [
    {
      "cell_type": "markdown",
      "source": [
        "# Intro to Python in Chemistry\n",
        "\n",
        "This lesson and subsequent ones aim to teach you about data visualization, data tidying, statistics, and a bit of Python coding. If you don't know how to code, don't worry! These lessons assume no prior knowledge of code or Python.\n",
        "\n",
        "A few things to start:\n",
        "\n",
        "1.   These lessons only work in Google Chrome\n",
        "2.   If you want to save your progress, go to File> Save a Copy in Drive; then locate a spot in your Drive folder\n",
        "3.   You can save these notebooks and run offline as a Jupyter Notebook.\n",
        "\n",
        "If you have questions, feel free to contact Dr. Chris Berndsen in the JMU Chemistry Department."
      ],
      "metadata": {
        "id": "XyiySTf0BrQD"
      }
    },
    {
      "cell_type": "markdown",
      "source": [
        "# Introduction to Python\n",
        "\n",
        "\n",
        "Python is a computer language that is associated with many functions in and out of science including statistical analysis and data visualization. However, it has many uses including for data visualization and analysis in chemistry and biochemistry. While Microsoft Excel and Google Sheets can perform many of the tasks that we will learn to do in Python, these programs are limited in their ability to work with and visualize large or complex data sets. Moreover, much of Excel and Sheets is designed for simplicity over customization.\n",
        "\n",
        "While Python may be difficult to use in the beginning, the experience of learning a bit of computational thinking and the practice applying problem solving skills provide gains outside of the chemistry world. Through these modules you will explore Python programming and develop your skills in data analysis and visualization.\n",
        "\n",
        "\n",
        "---\n",
        "# Definitions\n",
        "We start with a few definitions to help you succeed in learning Python and completing the tasks.\n",
        "\n",
        "A **code chunk** is what you see below:"
      ],
      "metadata": {
        "id": "vC16pSfACH2I"
      }
    },
    {
      "cell_type": "code",
      "execution_count": null,
      "metadata": {
        "id": "agm_QHYeBpRF"
      },
      "outputs": [],
      "source": [
        "## comments look like this\n",
        "code looks like this"
      ]
    },
    {
      "cell_type": "markdown",
      "source": [
        "These code chunks show examples of code along with **comments**. The comments are preceded by two `##` symbols. These are not lines that the computer reads, but lines for you, the reader, to read and learn from. As we move forward in these modules, the `##` will also serve as notes to future you and your instructor as you explain what you are doing. *Think of comments like your lab notebook, it is a way to keep notes and indicate what you are doing and observe.*\n",
        "\n",
        "\n",
        "---\n",
        "\n",
        "There will also be interactive chunks of code like shown below:"
      ],
      "metadata": {
        "id": "BehH2ry7Cb7-"
      }
    },
    {
      "cell_type": "code",
      "source": [
        "## This chunk of code is interactive and you can type into these blocks\n",
        "\n",
        "## Substitute your name in the blank space.\n",
        "print(\"Hello, ________. You just ran Python code!\")\n",
        "\n",
        "## Press the Run Code button at the left side of this chunk to see the result"
      ],
      "metadata": {
        "id": "3WdZlU0CCeeD"
      },
      "execution_count": null,
      "outputs": []
    },
    {
      "cell_type": "markdown",
      "source": [
        "## Assigning Values\n",
        "\n",
        "A fundamental skill in Python is assigning a value, which allows you to refer to one or more pieces of data in a simple way. To assign a value, first pick a name like x or df and then type an equals sign `=`. Then assign the value.\n",
        "\n",
        "For example, let's assign the value of 12 to the letter w. We would type `w = 12` and then press the \"Run\" button to let Python know that w has a value of 12. Try the exercise below and assign values as instructed."
      ],
      "metadata": {
        "id": "J9BI8RS6CtaX"
      }
    },
    {
      "cell_type": "code",
      "source": [
        "## assign 3 to the letter t\n",
        "\n",
        "## type t, then press Run Code button\n",
        "t"
      ],
      "metadata": {
        "id": "vBDmih19Cwxv"
      },
      "execution_count": null,
      "outputs": []
    },
    {
      "cell_type": "markdown",
      "source": [
        "## Why assign values rather than just refer to the number?\n",
        "\n",
        "At first glance, value assignment seems ridiculous. Why refer to 3 as t, rather than use 3 in an equation? For simple assignments, this is correct, however we may want to look at a set of data and will assign multiple values to a single name. For example, a student measures the pH value for one solution five times to determine the accuracy and precision of their measurement. The values are 4.9, 5.1, 5.1, 4.8, and 5.0. To calculate the average value and the error, you could type in each number into a calculator or the R console and do all the math. Alternatively, you could assign these values to a single name and simplify your typing. In doing this, you save yourself some effort and reduce the opportunities for errors.\n",
        "\n",
        "### Naming multiple values\n",
        "\n",
        "So, how to we assign multiple values to a name? First, you select your name (ex. `ph`), draw your `=`, then type `[]`. The `[]` takes multiple inputs and combines them into a single unit which we name. The values are entered between the `[]` separated by commas. If we take the pH values from the above section and put them into `[]`, our result is:\n",
        "\n",
        "`ph = [4.9, 5.1, 5.1, 4.8, 5.0]`\n",
        "\n",
        "The `ph` object can now be used to calculate statistical values without having to type and re-type this string every time. The formal name of the `ph` object is an **array**. A vector requires that all the data be the same type, meaning all numbers or all text and you *cannot* mix data types."
      ],
      "metadata": {
        "id": "_k8I0UjNDDcA"
      }
    },
    {
      "cell_type": "code",
      "source": [
        "## assign mass the values of 120.1, 122.0, 121.6, 120.1, and 127\n",
        "\n",
        "## type mass\n",
        "\n"
      ],
      "metadata": {
        "id": "UwhA32clDJ3p"
      },
      "execution_count": null,
      "outputs": []
    },
    {
      "cell_type": "markdown",
      "source": [
        "Now, calculate the average and standard deviation of this group of numbers."
      ],
      "metadata": {
        "id": "fpiNfiLhFN0F"
      }
    },
    {
      "cell_type": "code",
      "source": [
        "## calculate the len of mass the function --> len()\n",
        "len()\n",
        "\n",
        "## use the sum()) function to calculate the sum of mass\n"
      ],
      "metadata": {
        "id": "Ym9Jl4gSFKFL"
      },
      "execution_count": null,
      "outputs": []
    },
    {
      "cell_type": "markdown",
      "source": [
        "The above code is our first step toward programming and statistical analysis, as we used *functions* to perform math on our array. How could we use the above code to calculate the average mass value?\n",
        "\n",
        "### Mathematical calculations\n",
        "\n",
        "In addition to functions, you can do math on both numbers and named objects with one or more values. The language to do mathematical calculations is similar to that used in Google Sheets and Microsoft Excel.\n",
        "\n",
        "  - `*` is for multiplication\n",
        "  - `/` is for division\n",
        "  - `+` is for addition\n",
        "  - `-` is for subtraction\n",
        "  - `**` raises the number to a power\n",
        "\n",
        "If we want to add two numbers together, we type `2 + 14` and then run the code to produce `16`.\n",
        "\n"
      ],
      "metadata": {
        "id": "sUcn34PpFTJ7"
      }
    },
    {
      "cell_type": "code",
      "source": [
        "# calculate the average value in the mass array using the sum() and len() functions plus a math function\n"
      ],
      "metadata": {
        "id": "1wBQCesxGBfv"
      },
      "execution_count": null,
      "outputs": []
    },
    {
      "cell_type": "markdown",
      "source": [
        "If you produced a value of ~122 you did your first bit of Python programming!\n",
        "\n",
        "\n",
        "\n",
        "---\n",
        "Maybe we want to convert the numbers in mass from grams to kilograms, unfortunately we can't just say `mass/1000` and get an answer. We need to iterate through the list of numbers in mass. An example is shown below:\n"
      ],
      "metadata": {
        "id": "xumuyXVJGQzR"
      }
    },
    {
      "cell_type": "code",
      "source": [
        "# create the loop parameters\n",
        "for i in mass:\n",
        "  # do the math\n",
        "  kg = i/1000\n",
        "  # report out the results, kg is the number and we follow that with the units\n",
        "  print(kg, \"kg\")"
      ],
      "metadata": {
        "id": "9dZJUrsMGm7b"
      },
      "execution_count": null,
      "outputs": []
    },
    {
      "cell_type": "markdown",
      "source": [
        "The above is called a *loop* as we wrote commands for python to loop through the array and do something. These types of loops are used frequently in data analysis and is the underlying code for when you drag a formula through a column in Excel or Sheets to create a new column of numbers.\n",
        "While it is a lot of code to write to divide by 1000, sometimes you just have to write some code.\n",
        "\n",
        "---\n",
        "Let's combine some ideas together in a quick check of knowledge."
      ],
      "metadata": {
        "id": "iSj1RDQ1nnGh"
      }
    },
    {
      "cell_type": "code",
      "source": [
        "# create the array `abs`, which consists of 5 absorbance measurements\n",
        "# 0.23, 0.21, 0.212, 0.223, 0.23\n",
        "\n",
        "# calculate the average absorbance value\n",
        "\n",
        "\n",
        "# convert absorbance to molarity using Beer's law in a for loop\n",
        "# pathlength = 0.3 cm\n",
        "# extinction coefficient = 1250 M-1 cm-1\n",
        "# hint there are a few ways that this can be done, but adapting the layout above is a good start\n",
        "\n"
      ],
      "metadata": {
        "id": "XffPn0Yup8f0"
      },
      "execution_count": null,
      "outputs": []
    },
    {
      "cell_type": "markdown",
      "source": [
        "For loops are fun to write (when they work), but there are ways to speed up the analysis and reduce the complexity of the code you write.\n",
        "\n",
        "\n",
        "\n",
        "---\n",
        "\n",
        "\n",
        "## NumPy\n",
        "\n",
        "Like we download software or apps onto devices to do new things, we can customize Python with apps, called packages or libraries. These packages contain pre-packaged functions that can do math or handle data in ways that make it easier for us. The code below tells Python to use this package and that we will designate any commands that use NumPy, with an np. An example of calculating an average is shown."
      ],
      "metadata": {
        "id": "lPpIlSaOsM_5"
      }
    },
    {
      "cell_type": "code",
      "source": [
        "import numpy as np\n",
        "\n",
        "# calculate the average of mass\n",
        "np.mean(mass)"
      ],
      "metadata": {
        "id": "4UzyZ11qoUa0"
      },
      "execution_count": null,
      "outputs": []
    },
    {
      "cell_type": "markdown",
      "source": [
        "That was so much easier! We can even do math on the individual elements of the array without a for loop. Try it below:"
      ],
      "metadata": {
        "id": "dIpQl36It-Nw"
      }
    },
    {
      "cell_type": "code",
      "source": [
        "# make a np.array called mass with the values values of 120.1, 122.0, 121.6, 120.1, and 127\n",
        "mass = np.array([120.1, 122.0, 121.6, 120.1, 127])\n",
        "\n",
        "# divide each value in mass by 1000, but do not use a loop, just divide mass by 1000\n"
      ],
      "metadata": {
        "id": "l_JHc8UDt99Z"
      },
      "execution_count": null,
      "outputs": []
    },
    {
      "cell_type": "markdown",
      "source": [
        "This is the real power of packages, using other's work and code to reduce how much we have to do.\n",
        "\n",
        "Take a moment to search the internet on how to carry out the math requested below using the numpy package. In some cases, numpy is spelled out and others it is abbreviated using np, like we have done above."
      ],
      "metadata": {
        "id": "-KaoA09aunCr"
      }
    },
    {
      "cell_type": "code",
      "source": [
        "# create a np.array called abs which consists of 5 absorbance measurements\n",
        "# 0.23, 0.21, 0.212, 0.223, 0.23\n",
        "\n",
        "# calculate the average or mean value of abs\n",
        "\n",
        "\n",
        "# calculate the standard deviation of abs\n",
        "\n",
        "\n",
        "# convert abs to molar using beer's law\n",
        "# pathlength = 0.3 cm\n",
        "# extinction coefficient = 1250 M-1 cm-1\n",
        "\n"
      ],
      "metadata": {
        "id": "cmn14AMgoXBo"
      },
      "execution_count": null,
      "outputs": []
    },
    {
      "cell_type": "markdown",
      "source": [
        "Now that we have learned a bit of Python programming, we can begin to explore data and plotting the data in informative ways.\n",
        "\n",
        "\n",
        "---\n",
        "## Data frames\n",
        "In chemistry and biochemistry, we often are observing the effect of something on an outcome. The effect of reactant concentration on a reaction rate or how temperature changes the structure of a protein are good examples. In both of these examples, there are two sets of values to be considered and we might structure data in a table:\n"
      ],
      "metadata": {
        "id": "3av9wow8pFjW"
      }
    },
    {
      "cell_type": "code",
      "source": [
        "import pandas as pd\n",
        "import numpy as np\n",
        "\n",
        "## create two arrays\n",
        "## one called concentration and one called rate\n",
        "concentration = np.array([0, 1, 2, 4, 8, 16, 32, 64, 128])\n",
        "rate = np.array([0, 0.1, 0.24, 0.37, 0.82, 1.55, 3.1, 6.7, 12.2])\n",
        "\n",
        "df = pd.DataFrame(zip(concentration, rate),\n",
        "                  columns=[\"concentration\", \"rate\"])\n",
        "df"
      ],
      "metadata": {
        "id": "dhmnserwJIG9"
      },
      "execution_count": null,
      "outputs": []
    },
    {
      "cell_type": "markdown",
      "source": [
        "The table above is structured more like we see in a spreadsheet and how we will work with data for the most part in the future. *But* we can treat each column like an array above by referring to it as below:\n"
      ],
      "metadata": {
        "id": "3N3f0yaPKfBV"
      }
    },
    {
      "cell_type": "code",
      "source": [
        "# treat it like an array\n",
        "rate_arr = df['rate'].multiply(3)\n",
        "print(rate_arr)\n",
        "\n",
        "# put result in a new column\n",
        "df['rate*3'] = df['rate'].multiply(3)\n",
        "print(df)\n",
        "\n",
        "# put result in the original column\n",
        "df['rate'] = df['rate'].multiply(3)\n",
        "print(df)"
      ],
      "metadata": {
        "id": "7HBlxcEzK17g"
      },
      "execution_count": null,
      "outputs": []
    },
    {
      "cell_type": "markdown",
      "source": [
        "Notice how we can create new columns or modify old ones with only small changes to the code. This is a nice feature but can result in lost data and time if you are not careful with naming. A good tip is to make a copy of your data in the code using `df.copy` and work with the copy so that you can get back to the original data if you make a mistake.\n",
        "\n",
        "In addition to creating the data frame in Python, you could enter the data into Microsoft Excel or Google Sheets as a spreadsheet and then import the file into Python. We will use both methods eventually.\n",
        "\n",
        "---\n",
        "\n",
        "### Tidy tables and data\n",
        "\n",
        "Data frames are only useful forms of data if they are constructed carefully and **tidily**. In a tidy table, each column contains observations of a single type and each row represents a single observation. An untidy table is shown below:"
      ],
      "metadata": {
        "id": "1qtDO-KULpqT"
      }
    },
    {
      "cell_type": "code",
      "source": [
        "#@markdown press play to see the messy table\n",
        "\n",
        "concentration = np.array([\"0\", \"1 M\", \"2000 mM\", \"4.00001\", \"8\", \"16\", \"32 M\", \"64 M\", \"128 M\"])\n",
        "rate = np.array([\"0\", \"0.1 nmol/sec\", \"0.24 U/sec\", \"0.37\", \"0.82\", \"1.55\", \"3.1\", \"6.7\", \"12.2\"])\n",
        "color = np.array([\"red\", \"red\", \"pink\", \"pink-ish\", \"cloudy but pink\", \"pink\", \"clear\", \"transparent\", \"light pink\"])\n",
        "measurements = np.array([\"2 replicates\", \"3\", \"3\", \"2 + 1\", \"4\", \"6\", \"3\", \"3\", \"3\"])\n",
        "\n",
        "mess = pd.DataFrame(zip(concentration, rate, color, measurements),\n",
        "                  columns=[\"concentration\", \"rate\", \"color\", \"measurements\"])\n",
        "\n",
        "mess"
      ],
      "metadata": {
        "cellView": "form",
        "id": "-laUftSMM7W2"
      },
      "execution_count": null,
      "outputs": []
    },
    {
      "cell_type": "markdown",
      "source": [
        "***The table above has issues!***\n",
        "\n",
        "  1. The *concentration* and *rate* columns have issues with numbers with and without units.\n",
        "\n",
        "  2. The *concentration* and *rate* columns show different units of measurement.\n",
        "\n",
        "  3. The *color* column has inconsistent wording of color.Defined colors are used sometimes and then -ish or words like transparent and clear used at other times.\n",
        "\n",
        "  4. The measurements column has replicates used in one observation and then `2+1`. What does that even mean?\n",
        "\n",
        "  5. Significant figures are a mess and inconsistent!\n",
        "\n",
        "We likely all have made tables like the untidy one when we started out or were in a hurry. However, untidy tables create issues with accessibility and communicating with others in addition to creating problems when trying to analyze and visualize the data. How can we fix the table?\n",
        "\n",
        "\n",
        "---\n",
        "\n",
        "One easy fix would be to make sure that all the numbers have consistent units which are indicated in the column headers. A second more difficult fix would be to ensure that all measurements are standardized or scored using the same scale to avoid pink vs. clear issues. This latter solution requires good communication and a bit of planning in advanced, but will save you from some frustrating times later on.\n",
        "\n",
        "Let's look at the same data, but in tidy format:"
      ],
      "metadata": {
        "id": "rCtn8Tn2Ns_Q"
      }
    },
    {
      "cell_type": "code",
      "source": [
        "#@markdown Press play to see the tidy table\n",
        "\n",
        "#make the table\n",
        "concentration = np.array([0, 1, 2, 4, 8, 16, 32, 64, 128])\n",
        "rate = np.array([0, 0.10, 0.24, 0.37, 0.82, 1.5, 3.1, 6.7, 12])\n",
        "absorbance = np.array([0.05, 0.07, 0.08, 0.10, 0.11, 0.13, 0.15, 0.18, 0.21])\n",
        "turbidity = np.array([1, 1, 1, 1, 1, 2, 3, 6, 10])\n",
        "number = np.array([2, 3, 3, 3, 4, 6, 3, 3, 3])\n",
        "\n",
        "tidy = pd.DataFrame(zip(concentration, rate, absorbance, turbidity, number),\n",
        "                    columns=[\"concentration (M)\", \"rate (mol/sec)\", \"color (Abs 450 nm)\", \"Turbidity (NTU)\", \"number of measurements\"])\n",
        "\n",
        "# view the table\n",
        "tidy"
      ],
      "metadata": {
        "cellView": "form",
        "id": "i5DW_Mr0NytJ",
        "colab": {
          "base_uri": "https://localhost:8080/",
          "height": 332
        },
        "outputId": "6d62238e-32a2-405d-e469-5e127e2b072e",
        "collapsed": true
      },
      "execution_count": null,
      "outputs": [
        {
          "output_type": "execute_result",
          "data": {
            "text/plain": [
              "   concentration (M)  rate (mol/sec)  color (Abs 450 nm)  Turbidity (NTU)  \\\n",
              "0                  0            0.00                0.05                1   \n",
              "1                  1            0.10                0.07                1   \n",
              "2                  2            0.24                0.08                1   \n",
              "3                  4            0.37                0.10                1   \n",
              "4                  8            0.82                0.11                1   \n",
              "5                 16            1.50                0.13                2   \n",
              "6                 32            3.10                0.15                3   \n",
              "7                 64            6.70                0.18                6   \n",
              "8                128           12.00                0.21               10   \n",
              "\n",
              "   number of measurements  \n",
              "0                       2  \n",
              "1                       3  \n",
              "2                       3  \n",
              "3                       3  \n",
              "4                       4  \n",
              "5                       6  \n",
              "6                       3  \n",
              "7                       3  \n",
              "8                       3  "
            ],
            "text/html": [
              "\n",
              "  <div id=\"df-2e199c6b-1f9b-4edb-a047-37af1c0738f6\">\n",
              "    <div class=\"colab-df-container\">\n",
              "      <div>\n",
              "<style scoped>\n",
              "    .dataframe tbody tr th:only-of-type {\n",
              "        vertical-align: middle;\n",
              "    }\n",
              "\n",
              "    .dataframe tbody tr th {\n",
              "        vertical-align: top;\n",
              "    }\n",
              "\n",
              "    .dataframe thead th {\n",
              "        text-align: right;\n",
              "    }\n",
              "</style>\n",
              "<table border=\"1\" class=\"dataframe\">\n",
              "  <thead>\n",
              "    <tr style=\"text-align: right;\">\n",
              "      <th></th>\n",
              "      <th>concentration (M)</th>\n",
              "      <th>rate (mol/sec)</th>\n",
              "      <th>color (Abs 450 nm)</th>\n",
              "      <th>Turbidity (NTU)</th>\n",
              "      <th>number of measurements</th>\n",
              "    </tr>\n",
              "  </thead>\n",
              "  <tbody>\n",
              "    <tr>\n",
              "      <th>0</th>\n",
              "      <td>0</td>\n",
              "      <td>0.00</td>\n",
              "      <td>0.05</td>\n",
              "      <td>1</td>\n",
              "      <td>2</td>\n",
              "    </tr>\n",
              "    <tr>\n",
              "      <th>1</th>\n",
              "      <td>1</td>\n",
              "      <td>0.10</td>\n",
              "      <td>0.07</td>\n",
              "      <td>1</td>\n",
              "      <td>3</td>\n",
              "    </tr>\n",
              "    <tr>\n",
              "      <th>2</th>\n",
              "      <td>2</td>\n",
              "      <td>0.24</td>\n",
              "      <td>0.08</td>\n",
              "      <td>1</td>\n",
              "      <td>3</td>\n",
              "    </tr>\n",
              "    <tr>\n",
              "      <th>3</th>\n",
              "      <td>4</td>\n",
              "      <td>0.37</td>\n",
              "      <td>0.10</td>\n",
              "      <td>1</td>\n",
              "      <td>3</td>\n",
              "    </tr>\n",
              "    <tr>\n",
              "      <th>4</th>\n",
              "      <td>8</td>\n",
              "      <td>0.82</td>\n",
              "      <td>0.11</td>\n",
              "      <td>1</td>\n",
              "      <td>4</td>\n",
              "    </tr>\n",
              "    <tr>\n",
              "      <th>5</th>\n",
              "      <td>16</td>\n",
              "      <td>1.50</td>\n",
              "      <td>0.13</td>\n",
              "      <td>2</td>\n",
              "      <td>6</td>\n",
              "    </tr>\n",
              "    <tr>\n",
              "      <th>6</th>\n",
              "      <td>32</td>\n",
              "      <td>3.10</td>\n",
              "      <td>0.15</td>\n",
              "      <td>3</td>\n",
              "      <td>3</td>\n",
              "    </tr>\n",
              "    <tr>\n",
              "      <th>7</th>\n",
              "      <td>64</td>\n",
              "      <td>6.70</td>\n",
              "      <td>0.18</td>\n",
              "      <td>6</td>\n",
              "      <td>3</td>\n",
              "    </tr>\n",
              "    <tr>\n",
              "      <th>8</th>\n",
              "      <td>128</td>\n",
              "      <td>12.00</td>\n",
              "      <td>0.21</td>\n",
              "      <td>10</td>\n",
              "      <td>3</td>\n",
              "    </tr>\n",
              "  </tbody>\n",
              "</table>\n",
              "</div>\n",
              "      <button class=\"colab-df-convert\" onclick=\"convertToInteractive('df-2e199c6b-1f9b-4edb-a047-37af1c0738f6')\"\n",
              "              title=\"Convert this dataframe to an interactive table.\"\n",
              "              style=\"display:none;\">\n",
              "        \n",
              "  <svg xmlns=\"http://www.w3.org/2000/svg\" height=\"24px\"viewBox=\"0 0 24 24\"\n",
              "       width=\"24px\">\n",
              "    <path d=\"M0 0h24v24H0V0z\" fill=\"none\"/>\n",
              "    <path d=\"M18.56 5.44l.94 2.06.94-2.06 2.06-.94-2.06-.94-.94-2.06-.94 2.06-2.06.94zm-11 1L8.5 8.5l.94-2.06 2.06-.94-2.06-.94L8.5 2.5l-.94 2.06-2.06.94zm10 10l.94 2.06.94-2.06 2.06-.94-2.06-.94-.94-2.06-.94 2.06-2.06.94z\"/><path d=\"M17.41 7.96l-1.37-1.37c-.4-.4-.92-.59-1.43-.59-.52 0-1.04.2-1.43.59L10.3 9.45l-7.72 7.72c-.78.78-.78 2.05 0 2.83L4 21.41c.39.39.9.59 1.41.59.51 0 1.02-.2 1.41-.59l7.78-7.78 2.81-2.81c.8-.78.8-2.07 0-2.86zM5.41 20L4 18.59l7.72-7.72 1.47 1.35L5.41 20z\"/>\n",
              "  </svg>\n",
              "      </button>\n",
              "      \n",
              "  <style>\n",
              "    .colab-df-container {\n",
              "      display:flex;\n",
              "      flex-wrap:wrap;\n",
              "      gap: 12px;\n",
              "    }\n",
              "\n",
              "    .colab-df-convert {\n",
              "      background-color: #E8F0FE;\n",
              "      border: none;\n",
              "      border-radius: 50%;\n",
              "      cursor: pointer;\n",
              "      display: none;\n",
              "      fill: #1967D2;\n",
              "      height: 32px;\n",
              "      padding: 0 0 0 0;\n",
              "      width: 32px;\n",
              "    }\n",
              "\n",
              "    .colab-df-convert:hover {\n",
              "      background-color: #E2EBFA;\n",
              "      box-shadow: 0px 1px 2px rgba(60, 64, 67, 0.3), 0px 1px 3px 1px rgba(60, 64, 67, 0.15);\n",
              "      fill: #174EA6;\n",
              "    }\n",
              "\n",
              "    [theme=dark] .colab-df-convert {\n",
              "      background-color: #3B4455;\n",
              "      fill: #D2E3FC;\n",
              "    }\n",
              "\n",
              "    [theme=dark] .colab-df-convert:hover {\n",
              "      background-color: #434B5C;\n",
              "      box-shadow: 0px 1px 3px 1px rgba(0, 0, 0, 0.15);\n",
              "      filter: drop-shadow(0px 1px 2px rgba(0, 0, 0, 0.3));\n",
              "      fill: #FFFFFF;\n",
              "    }\n",
              "  </style>\n",
              "\n",
              "      <script>\n",
              "        const buttonEl =\n",
              "          document.querySelector('#df-2e199c6b-1f9b-4edb-a047-37af1c0738f6 button.colab-df-convert');\n",
              "        buttonEl.style.display =\n",
              "          google.colab.kernel.accessAllowed ? 'block' : 'none';\n",
              "\n",
              "        async function convertToInteractive(key) {\n",
              "          const element = document.querySelector('#df-2e199c6b-1f9b-4edb-a047-37af1c0738f6');\n",
              "          const dataTable =\n",
              "            await google.colab.kernel.invokeFunction('convertToInteractive',\n",
              "                                                     [key], {});\n",
              "          if (!dataTable) return;\n",
              "\n",
              "          const docLinkHtml = 'Like what you see? Visit the ' +\n",
              "            '<a target=\"_blank\" href=https://colab.research.google.com/notebooks/data_table.ipynb>data table notebook</a>'\n",
              "            + ' to learn more about interactive tables.';\n",
              "          element.innerHTML = '';\n",
              "          dataTable['output_type'] = 'display_data';\n",
              "          await google.colab.output.renderOutput(dataTable, element);\n",
              "          const docLink = document.createElement('div');\n",
              "          docLink.innerHTML = docLinkHtml;\n",
              "          element.appendChild(docLink);\n",
              "        }\n",
              "      </script>\n",
              "    </div>\n",
              "  </div>\n",
              "  "
            ]
          },
          "metadata": {},
          "execution_count": 3
        }
      ]
    },
    {
      "cell_type": "markdown",
      "source": [
        "This table looks a lot better! Notice how units are included in the column headers and  the numbers in each column use the same units. In addition, the color column was changed from using a qualitative and inconsistent measurement like pink or red to using a spectrophotometer to measure absorbance. Then a new set of observations called turbidity was collected specifically focusing on the clarity of the sample. Finally, the number of trials is standardized. Now it is clear what the numbers represent and we can start to think about analyzing these data.\n",
        "\n",
        "\n",
        "---\n",
        "\n",
        "\n",
        "\n",
        "### Math in data frames\n",
        "\n",
        "Like vectors, data in data frames can be analyzed and summarized. Run the code below and compare the differences between the first command and the second command."
      ],
      "metadata": {
        "id": "6NehFHJfPQpb"
      }
    },
    {
      "cell_type": "code",
      "source": [
        "## create the data frame of mass and volume measurements\n",
        "mass = np.array([100, 105, 102, 92, 117])\n",
        "volume = np.array([15, 14, 9.0, 16, 13])\n",
        "\n",
        "tbl = pd.DataFrame(zip(mass, volume),\n",
        "                   columns = [\"mass\", \"volume\"])\n",
        "\n",
        "## summarise the data in tbl\n",
        "tbl.describe()\n",
        "\n",
        "# summarize just the data in the mass column\n",
        "tbl['mass'].describe()"
      ],
      "metadata": {
        "id": "j26YiPIEPjz_"
      },
      "execution_count": null,
      "outputs": []
    },
    {
      "cell_type": "markdown",
      "source": [
        "The command in line 9 shows the summary of both columns, while the command in line 11, results in the just a summary of one column.\n",
        "\n",
        "Notice in the second command, the inclusion of `['mass']`. A data frame name, followed by `[]` and a column name (from the data frame), allows you to isolate only that column within the data frame for a function or doing calculations. For summarizing data, this can reduce the size of the results especially if you have parts of the data frame that aren't numbers or that you are not focusing on.\n",
        "\n",
        "Pandas and numpy both have a number of data exploration and descriptor functions that you can access by indicating which dataframe, which column (if any), and the command. For example, the mean of the mass column in tbl could be calculated by `tbl['mass'].mean()`. In the code below, try using some of what we learned above to work through a table of masses and volumes to get the average density and the density for each sample."
      ],
      "metadata": {
        "id": "xn820FPnQFxg"
      }
    },
    {
      "cell_type": "code",
      "source": [
        "# create the table\n",
        "mass = np.array([100, 105, 102, 92, 117])\n",
        "volume = np.array([15, 14, 9.0, 16, 13])\n",
        "\n",
        "tbl = pd.DataFrame(zip(mass, volume),\n",
        "                   columns = [\"mass\", \"volume\"])\n",
        "\n",
        "## calculate the average of mass and name that mass_avg\n",
        "\n",
        "## calculate the average of volume and name that vol_avg\n",
        "\n",
        "## calculate the average density from the average of mass and volume\n",
        "\n",
        "\n",
        "## calculate the density of each pair of samples\n",
        "\n",
        "\n",
        "## try the same command, but assign it to a new column called density in the data frame.\n",
        "## Hint: if the column already existed in the data frame how would you refer to it?\n",
        "\n",
        "\n",
        "## calculate the statistics of the density column\n",
        "\n"
      ],
      "metadata": {
        "id": "IwVLTOIhRFDD"
      },
      "execution_count": null,
      "outputs": []
    }
  ]
}