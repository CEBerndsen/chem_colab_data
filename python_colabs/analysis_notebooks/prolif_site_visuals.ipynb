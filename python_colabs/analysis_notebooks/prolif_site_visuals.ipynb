{
  "cells": [
    {
      "cell_type": "markdown",
      "metadata": {
        "id": "NYHJQ9hwAVqL"
      },
      "source": [
        "# Visualizing protein-ligand binding sites\n",
        "\n",
        "This tutorial is aimed at using [ProLIF](https://prolif.readthedocs.io/en/latest/index.html) to generate an interaction site image (also called a fingerprint) for protein-ligand complexes. There are several preparation steps which you need to follow before generating an interaction fingerprint with ProLIF. This type of analysis and the resulting visuals are important for communicating results clearly to your audience and provides an automated way to identify potential interactions. This approach does not replace manual analysis of the interactions in Mol*, pyMol, or other software! This automated analysis should be used alongside manual analysis and confirmation of the results.\n",
        "\n",
        "This colab assumes that you have already docked a ligand to the protein through any method. The outputs used to create this colab come from  [Uni_dock colab](https://colab.research.google.com/drive/1hV3pwwYMr8Peg37JGnyZ_uipy08YbhUC?usp=sharing) which produces ligand binding poses in .sdf format.\n",
        "\n",
        "####**Please make a copy of this colab for your personal use!!**\n",
        "\n",
        "A few things to start:\n",
        "\n",
        "1.   These lessons only work in Google Chrome\n",
        "2.   If you want to save your progress, go to File> Save a Copy in Drive; then locate a spot in your Drive folder\n",
        "3.   Clicking the \"play\" button to the top left of a code block runs the code. Sometimes you can see the code and interact with it. However, if the code is hidden  it is to run adminstrative tasks in the background and you do not need to worry unless you are interested.\n",
        "4. Sometimes the code may be hidden from view. To view it, click the '>' on the left of the title, until it changes to 'v'. This will reveal the code in that line.\n",
        "\n",
        "### Starting Files\n",
        "1. A .pdb file with explict hydrogens. This means all of the hydrogens are there already. If you used the Uni_dock colab to docking the molecules, use the **receptor.pdb** file produced in step 2.\n",
        "2. A .sdf file of the ligand from the docking software. From the Uni_dock colab, these would be the files produced some step 9. Only one ligand site can be visualized at a time in this workflow.\n",
        "\n",
        "Overall, this code takes 20 minutes or less to visualize the binding site. Comparison of multiple ligands will increase the run time.\n",
        "\n",
        "---\n",
        "\n",
        "This document has a list of [Frequently Asked Questions](https://docs.google.com/document/d/1kzkOi1T6QYjcyIoMXpU114B15WE0VcGnof5xvG5zdvA/edit?usp=sharing), reach out to your instructor if you have additional questions.\n",
        "\n",
        "---\n",
        "\n",
        "\n",
        "**Acknowledgments**\n",
        "- This Colab was written and adapted by Chris Berndsen in 2024 from a [code tutorial](https://prolif.readthedocs.io/en/latest/notebooks/docking.html#docking) from ProLIF. If you are interested in additional ways to use ProLIF or to use it with full simulations, please check out the [ProLIF tutorials](https://prolif.readthedocs.io/en/latest/source/tutorials.html) page.\n",
        "\n"
      ]
    },
    {
      "cell_type": "markdown",
      "source": [
        "---\n",
        "---\n",
        "# **Getting started**\n",
        "\n",
        "The first thing we need to do is install all necessary libraries and packages for our simulation, which in simple terms is code that is needed to run other code. To install the packages you need, click the PLAY button on the left. These packages will load some settings that are needed to run the rest of the code.\n",
        "\n",
        "It is also important to indicate what the code means. Any line that begins with a '#' contains a comment on the code. If the code is shown, it is important to read the '#' to know what the code is and potentially how to run it."
      ],
      "metadata": {
        "id": "7CHz9ev8F56k"
      }
    },
    {
      "cell_type": "code",
      "source": [
        "#@title **1A: Install Conda Colab**\n",
        "#@markdown Press PLAY. It will restart the session, don't worry.\n",
        "!pip install -q condacolab\n",
        "import condacolab\n",
        "condacolab.install()"
      ],
      "metadata": {
        "cellView": "form",
        "id": "8ZCaVYSy7FRE"
      },
      "execution_count": null,
      "outputs": []
    },
    {
      "cell_type": "code",
      "source": [
        "#@title **1B: Install dependencies**\n",
        "#@markdown Only press PLAY **after** the Conda Colab has finished downloading. It may take a few minutes, please wait :-)\n",
        "# install dependencies\n",
        "!pip install rdkit prolif --quiet\n",
        "!pip install py3Dmol --quiet\n",
        "import py3Dmol\n",
        "import MDAnalysis as mda\n",
        "import prolif as plf\n"
      ],
      "metadata": {
        "cellView": "form",
        "id": "PFyesnL57UI5"
      },
      "execution_count": null,
      "outputs": []
    },
    {
      "cell_type": "markdown",
      "source": [
        "Once both of the above have run, *then* you can begin analyzing the protein and ligand.\n",
        "\n",
        "1.   Click on the file folder on the left side\n",
        "2.   **Right-click**, bring up the actions menu, and create a folder. Name this folder \"data\".\n",
        "3. Upload the .pdb file and the .sdf file to the \"data\" folder.\n",
        "4.   **Right-click**, bring up the actions menu, and create a folder. Name this folder \"outputs\". This is where we will put any output files or figures. **Remember to download all of these files when done.**"
      ],
      "metadata": {
        "id": "CBVLdVHiGw8U"
      }
    },
    {
      "cell_type": "markdown",
      "metadata": {
        "id": "UImHzUo9AVqR"
      },
      "source": [
        "## 2: Protein preparation\n",
        "\n",
        "In order to generate a valid molecule (with bond orders and charges) from a PDB file and correctly detect HBond interactions, **ProLIF requires the protein file to contain explicit hydrogens.**\n",
        "\n"
      ]
    },
    {
      "cell_type": "code",
      "execution_count": null,
      "metadata": {
        "id": "TGJcpsOpAVqS"
      },
      "outputs": [],
      "source": [
        "# these are the names of your files, replace the \"xxx\" with your pdb name\n",
        "u = mda.Universe(\"data/xxx.pdb\")\n",
        "protein_mol = plf.Molecule.from_mda(u)\n",
        "\n",
        "# count the number of amino acids in the protein\n",
        "# make sure this number matches what you would expect!\n",
        "protein_mol.n_residues"
      ]
    },
    {
      "cell_type": "markdown",
      "metadata": {
        "id": "WpORWPVQAVqX"
      },
      "source": [
        "## 3: Ligand preparation\n",
        "\n",
        "As for the protein structure, we'll need our prepared ligand file to contain explicit hydrogens. If you .sdf file came from the Uni_dock colab, it should work fine.\n",
        "\n",
        "\n",
        "Save a screenshot of ligand for your notebook."
      ]
    },
    {
      "cell_type": "code",
      "execution_count": null,
      "metadata": {
        "id": "ehjMe5vvAVqX"
      },
      "outputs": [],
      "source": [
        "# read SDF\n",
        "# these are the names of your files, replace the \"xxx\" with your sdf name\n",
        "ligand_mol = plf.sdf_supplier(\"data/xxx.sdf\")[0]\n",
        "\n",
        "# display ligand below\n",
        "# make sure that it looks correct\n",
        "plf.display_residues(ligand_mol, size=(400, 200))"
      ]
    },
    {
      "cell_type": "markdown",
      "metadata": {
        "id": "GkZIfpJbAVqY"
      },
      "source": [
        "## 4: Fingerprint generation\n",
        "\n",
        "We can now generate a fingerprint or which amino acids are interacting with the ligand. By default, ProLIF will calculate the following interactions: Hydrophobic, HBDonor, HBAcceptor, PiStacking, Anionic, Cationic, CationPi, PiCation, VdWContact.\n",
        "\n",
        "* Anionic and Cationic are ionic interactions.\n",
        "* HBDonor and HBAcceptor are hydrogen bonding contacts, with the HBDonor group having the hydrogen and the HBAcceptor having the lone pair that interacts with the hydrogen.\n",
        "* PiStacking and PiCation are interactions of aromatic groups with other aromatic groups or cations, respectively.\n",
        "* Hydrophobic interactions are London dispersion interactions or interactions between induced dipoles.\n",
        "\n",
        "\n",
        "After running this step the code will produce a message with a brief description of the site. Record the number of interactions found in the fingerprint.\n"
      ]
    },
    {
      "cell_type": "code",
      "execution_count": null,
      "metadata": {
        "id": "t_13PwU6AVqZ"
      },
      "outputs": [],
      "source": [
        "# use default interactions\n",
        "fp = plf.Fingerprint(count=True)\n",
        "# run on your poses\n",
        "fp.run_from_iterable([ligand_mol], protein_mol)"
      ]
    },
    {
      "cell_type": "markdown",
      "source": [
        "The code below is optional and does not need to be run unless you want to change the interaction site size or focus in on specific amino acids. This general is not needed."
      ],
      "metadata": {
        "id": "lhz4zE7xKFQg"
      }
    },
    {
      "cell_type": "code",
      "source": [
        "# optional code for describing specific interactions\n",
        "# to increase/decrease the distance between ligand and interaction partners in the protein\n",
        "# default is 6 angstrom (0.6 nm)\n",
        "# fp.run_from_iterable([ligand_mol], protein_mol, vicinity_cutoff=7.0)\n",
        "\n",
        "\n",
        "# to focus on specific amino acids, add the descriptor of the amino acid\n",
        "# fp.run_from_iterable([ligand_mol], protein_mol, residues=[\"TYR38.A\", \"ASP129.A\"])"
      ],
      "metadata": {
        "id": "ezaDggapJjcI"
      },
      "execution_count": null,
      "outputs": []
    },
    {
      "cell_type": "markdown",
      "metadata": {
        "id": "4oXnHUIMAVqa"
      },
      "source": [
        "The best way to record our results is to export the interaction fingerprint to dataframe and then save it as a .csv, which can be opened in Excel or Sheets. Generally there is no need to change any of the steps below, unless you want to change the filename in the third line of code which has the `to_csv` command."
      ]
    },
    {
      "cell_type": "code",
      "execution_count": null,
      "metadata": {
        "id": "tpIISvrLAVqb"
      },
      "outputs": [],
      "source": [
        "# make the dataframe\n",
        "df = fp.to_dataframe()\n",
        "# make the dataframe vertical\n",
        "df2 = df.T\n",
        "#save the data frame in the outputs folder\n",
        "df2.to_csv(\"outputs/fingerprint.csv\")"
      ]
    },
    {
      "cell_type": "markdown",
      "metadata": {
        "id": "nSn-q0psAVqc"
      },
      "source": [
        "## 5: Visualization\n",
        "\n",
        "One of the more useful features of ProLIF is the ability to generate an interactive  2-D interaction figure. Looking at structures in 3-D is useful but hard to show in a report or manuscript where the images are static.\n",
        "\n",
        "Once you run the code, the image is interactive. You can move the protein interactions around to be visually appealing and/or hide certain types of interactions by clicking the boxes below the image. These simplifications are important for protein-ligand pairs with extensive interaction sites.\n",
        "\n",
        "The representation below shows only the first instance of each amino acid-ligand pair. The code block below shows ALL interactions. This is useful for analysis but may be too complex for a report. Use your judgement as to which is better for communicating your site.\n",
        "\n",
        "Take a screenshot of your site(s) once you have a good figure."
      ]
    },
    {
      "cell_type": "code",
      "execution_count": null,
      "metadata": {
        "id": "e_wR0Fh9AVqc"
      },
      "outputs": [],
      "source": [
        "view = fp.plot_lignetwork(ligand_mol, kind=\"frame\", frame=0, display_all = False)\n",
        "view"
      ]
    },
    {
      "cell_type": "code",
      "execution_count": null,
      "metadata": {
        "id": "VUaHHGJcPhgP"
      },
      "outputs": [],
      "source": [
        "# show the more complex network of interactions\n",
        "# completely optional\n",
        "view = fp.plot_lignetwork(ligand_mol, kind=\"frame\", frame=0, display_all = True)\n",
        "view"
      ]
    },
    {
      "cell_type": "markdown",
      "source": [
        "In addition to the 2-D plot, it is also possible to generate a 3-D version, although this may be better done in other programs.\n",
        "\n",
        "You can pose your protein-ligand complex to show the interactions. If you let your cursor hover over an amino acid it will describe which amino acid is shown.\n",
        "\n",
        "Take a screenshot of your site(s) once you have a good figure."
      ],
      "metadata": {
        "id": "JNafkXu9PI19"
      }
    }
  ],
  "metadata": {
    "interpreter": {
      "hash": "8787e9fc73b27535744a25d17e74686c0add9df598b8e27ca04412fce7f0c7ae"
    },
    "kernelspec": {
      "display_name": "Python 3.8.5 ('prolif')",
      "language": "python",
      "name": "python3"
    },
    "language_info": {
      "codemirror_mode": {
        "name": "ipython",
        "version": 3
      },
      "file_extension": ".py",
      "mimetype": "text/x-python",
      "name": "python",
      "nbconvert_exporter": "python",
      "pygments_lexer": "ipython3",
      "version": "3.9.13"
    },
    "colab": {
      "provenance": []
    }
  },
  "nbformat": 4,
  "nbformat_minor": 0
}