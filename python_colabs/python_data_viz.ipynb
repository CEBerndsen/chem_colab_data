{
  "nbformat": 4,
  "nbformat_minor": 0,
  "metadata": {
    "colab": {
      "provenance": []
    },
    "kernelspec": {
      "name": "python3",
      "display_name": "Python 3"
    },
    "language_info": {
      "name": "python"
    }
  },
  "cells": [
    {
      "cell_type": "markdown",
      "source": [
        "# Intro to Python in Chemistry\n",
        "\n",
        "This lesson and subsequent ones aim to teach you about data visualization, data tidying, statistics, and a bit of Python coding. If you don't know how to code, don't worry! These lessons assume basic knowledge of code or Python. If you are new to Python, you may want to try the [intro to Python colab](https://colab.research.google.com/drive/1ltdsUiprT3O1kZIhEXF69ZJhHlqRPApx?usp=sharing)\n",
        "\n",
        "A few things to start:\n",
        "\n",
        "1.   These lessons only work in Google Chrome\n",
        "2.   If you want to save your progress, go to File> Save a Copy in Drive; then locate a spot in your Drive folder\n",
        "3.   You can save these notebooks and run offline as a Jupyter Notebook.\n",
        "\n",
        "If you have questions, feel free to contact Dr. Chris Berndsen in the JMU Chemistry Department.\n",
        "\n",
        "\n",
        "\n",
        "---\n",
        "# Visualizing data\n",
        "\n",
        "Data come in many types and can be analyzed in many ways. In Chemistry and Biochemistry, we sometimes use statistics to summarize the measurements, while other times we show the raw data such as measuring the absorbance of a sample. In most instances, both showing a plot and a summary table of statistics is helpful, especially when you have complex data. In this module, we will also introduce the basics of plotting data in Python using the `matplotlib` and `seaborn` packages. These packages will be the primary package for data visualization in later modules. We will also be using the `pandas` package for working with the speadsheets and dataframes.\n"
      ],
      "metadata": {
        "id": "qEsvVCYex7F5"
      }
    },
    {
      "cell_type": "code",
      "execution_count": null,
      "metadata": {
        "id": "gxJr-lp-vyyH"
      },
      "outputs": [],
      "source": [
        "# load the packages\n",
        "import pandas as pd\n",
        "import seaborn as sns\n",
        "import matplotlib.pyplot as plt\n",
        "import numpy as np\n",
        "# note how we designated each of the packages after the as term"
      ]
    },
    {
      "cell_type": "markdown",
      "source": [
        "## Why visualize data?\n",
        "Chemistry data often come in the form of numbers. Think about some of the values you may have determined in lab: mass, density, rate, absorbance, pH, etc. Comparison of a few measurements is easy, however as the size of the data increases, so does the complexity of the analysis required to make comparisons.\n",
        "\n",
        "\n",
        "\n",
        "---\n",
        "Below we will load data on the effect of temperature on the chirp rate of two species of crickets from *Mangiafico, S. 2015. \"An R Companion for the Handbook of Biological Statistics.\"* and *McDonald, J. 2009. Handbook of Biological Statistics*. We will work to plot these data a few different ways while developing some sense of the best practices for displaying data. Press the play button to load the data and see how the data are organized.\n",
        "\n",
        "\n"
      ],
      "metadata": {
        "id": "ytNOQuzczVG9"
      }
    },
    {
      "cell_type": "code",
      "source": [
        "# import the data from github\n",
        "url = 'https://raw.githubusercontent.com/CEBerndsen/r_colab_data/main/crickets_data.csv'\n",
        "crdf = pd.read_csv(url)\n",
        "\n",
        "# peek at the organization of the data\n",
        "# how many rows\n",
        "print(\"The data has\", len(crdf), \"rows\")\n",
        "\n",
        "# top 6 rows and columns\n",
        "crdf.head()\n"
      ],
      "metadata": {
        "id": "dwbEfklRzpna"
      },
      "execution_count": null,
      "outputs": []
    },
    {
      "cell_type": "markdown",
      "source": [
        "The data have three columns `species`, `temp`, and `rate` with 31 rows of values. Let's take a look at with the basic `matplotlib` plot.\n",
        "We first tell Python to use `matplotlib` by saying `plt`, then a dot and saying that we want to plot the data. Then, we indicate our x and y variables. Because the data are in a dataframe we have to indicate the data frame (`crdf` in this case) and the column. We choose the columns using brackets `[]` and the column name in quotes."
      ],
      "metadata": {
        "id": "RNdSt_Wu26mT"
      }
    },
    {
      "cell_type": "code",
      "source": [
        "plt.plot(crdf['temp'], crdf['rate'])"
      ],
      "metadata": {
        "id": "M4RHbQ1f4WrC"
      },
      "execution_count": null,
      "outputs": []
    },
    {
      "cell_type": "markdown",
      "source": [
        "This plot is really bad and missing information that would be informative. See if you can identify some of the problems so that we can fix the plot.\n",
        "\n",
        "---\n",
        "\n",
        "Now that we have identified the issues, let's look at the [Matplotlib gallery](https://matplotlib.org/stable/plot_types/index.html) and the [Seaborn gallery](https://seaborn.pydata.org/examples/index.html) to identify a new plot and start improving.\n"
      ],
      "metadata": {
        "id": "L5VdxGIw5Zd_"
      }
    },
    {
      "cell_type": "markdown",
      "source": [
        "Let's try to construct a scatter plot of the data.\n",
        "\n",
        "Look at the code for the [scatter plots](https://matplotlib.org/stable/plot_types/basic/scatter_plot.html#sphx-glr-plot-types-basic-scatter-plot-py).\n",
        "\n",
        "![matplotlib.PNG](data:image/png;base64,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)\n",
        "\n",
        "\n",
        "There is a lot here. At top is the package loading, which we already did. Then the data are made, which we also do not need to do since we have the crickets data. The code for plotting is at the bottom beneath the `# plot` line.\n",
        "\n",
        "Let's break it down:\n",
        "\n",
        "\n",
        "1.   `fig, ax = plt.subplot()` = Set up the plot\n",
        "2.   `ax.scatter...` = indicate the x and y along with colors and axis lengths\n",
        "3.   `ax.set...` = set limits and ticks\n",
        "4.   `plt.show()` = show the plot\n",
        "\n",
        "Now let's modify these settings to make a basic plot.\n",
        "\n"
      ],
      "metadata": {
        "id": "09fU1jVe8-0n"
      }
    },
    {
      "cell_type": "code",
      "source": [
        "# make a scatter plot\n",
        "fig, ax = plt.subplots()\n",
        "\n",
        "# indicate the x and y axes, let's skip colors and limits for now\n",
        "\n",
        "# show the plot\n"
      ],
      "metadata": {
        "id": "ZizKIFZW_RN6"
      },
      "execution_count": null,
      "outputs": []
    },
    {
      "cell_type": "markdown",
      "source": [
        "The plot should look similar to below if your code worked.\n",
        "\n",
        "![work.png](data:image/png;base64,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)\n",
        "\n",
        "If it does not, try to figure out the issue, if it does, let's move forward.\n",
        "\n",
        "***\n",
        "\n",
        "We know the plot is minimally missing axes labels and color to differentiate the species."
      ],
      "metadata": {
        "id": "XNMcsv-l_vIU"
      }
    },
    {
      "cell_type": "code",
      "source": [
        "# copy the working code from above and add the needed elements\n"
      ],
      "metadata": {
        "id": "cORHj5647sI9"
      },
      "execution_count": null,
      "outputs": []
    },
    {
      "cell_type": "markdown",
      "source": [
        "Matplotlib begins to struggle a bit with multivariable data which is where seaborn comes in. Seaborn builds on top of Matplotlib to make prettier plots and is *slightly* easier to use. So let's look at the [scatter plot in Seaborn example](https://seaborn.pydata.org/examples/different_scatter_variables.html), and start improving our plot by adapting the code in that example."
      ],
      "metadata": {
        "id": "y2MOJ_uv_urq"
      }
    },
    {
      "cell_type": "code",
      "source": [
        "# adapt your code for Seaborn to make a scatterplot\n",
        "# see what changes still need to be made\n",
        "\n",
        "\n",
        "\n",
        "# change code to color by species"
      ],
      "metadata": {
        "id": "ZK19HCpmiICd"
      },
      "execution_count": null,
      "outputs": []
    },
    {
      "cell_type": "code",
      "source": [
        "#@markdown Press the play button for one possible answer\n",
        "g = (sns.scatterplot(x=crdf['temp'], y=crdf['rate'],\n",
        "                hue=crdf['species']))\n",
        "g.set(xlabel=\"Temp (C)\", ylabel=\"Rate (chirps/min)\")\n",
        "plt.show()"
      ],
      "metadata": {
        "id": "WkSN7X1De1tt"
      },
      "execution_count": null,
      "outputs": []
    },
    {
      "cell_type": "markdown",
      "source": [
        "Hopefully your plot showed the same information level as the example. So far we have made a nice figure comparing the effect of temperature on the two cricket species. But what about fitting a line to the data to quantitatively compare the data?  We can visualize this using Seaborn and the [`lmplot` function.](https://seaborn.pydata.org/examples/multiple_regression.html)"
      ],
      "metadata": {
        "id": "vY8JHrjoiYJ-"
      }
    },
    {
      "cell_type": "code",
      "source": [
        "# adapt the penguins example in the gallery to produce a scatter plot with two fitting lines on it with the crickets data"
      ],
      "metadata": {
        "id": "BhA_768OiX13"
      },
      "execution_count": null,
      "outputs": []
    },
    {
      "cell_type": "markdown",
      "source": [
        "But what if we want the slope value and error to go along with the plot? For this we have to use NumPy and the `polyfit` function."
      ],
      "metadata": {
        "id": "OeWxJyb_TdN0"
      }
    },
    {
      "cell_type": "code",
      "source": [
        "# remove data from one of the species\n",
        "excl = crdf[crdf.species == \"O. exclamationis\"]\n",
        "\n",
        "# use polyfit to fit the data, the 1 means the equation is for a straight line\n",
        "coeff = np.polyfit(excl.temp, excl.rate, 1)\n",
        "\n",
        "# there will be two numbers in coeff, the slope and the y-intercept\n",
        "print(coeff)\n",
        "\n",
        "# now try to calculate the slope for the other species\n",
        "# remember to use different dataframe and variable names"
      ],
      "metadata": {
        "id": "NKECqVYhV_w4"
      },
      "execution_count": null,
      "outputs": []
    }
  ]
}