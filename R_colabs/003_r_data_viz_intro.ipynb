{
  "nbformat": 4,
  "nbformat_minor": 0,
  "metadata": {
    "colab": {
      "provenance": []
    },
    "kernelspec": {
      "name": "ir",
      "display_name": "R"
    },
    "language_info": {
      "name": "R"
    }
  },
  "cells": [
    {
      "cell_type": "markdown",
      "source": [
        "# Intro to chemistRy\n",
        "\n",
        "Welcome to the *chemistRy*, a product of the JMU Department of Chemistry and Biochemistry. This is the second lesson in the series which  aims to teach you about data visualization, data tidying, statistics, and a bit of R coding. If you don't know how to code, don't worry! These lessons assume no prior knowledge of code or R.\n",
        "\n",
        "A few things to start:\n",
        "\n",
        "1.   These lessons only work in Google Chrome\n",
        "2.   If you want to save your progress, go to File> Save a Copy in Drive; then locate a spot in your Drive folder\n",
        "3.   This is a special Google Colab for R, regular Colab runs in Python. If you want to make your own R notebook, follow this [link](https://colab.research.google.com/drive/16u6W4rl-AHX_yXlQx7HcgjAuNimfqwj_).\n",
        "\n",
        "If you have questions, feel free to contact Dr. Chris Berndsen in the JMU Chemistry Department.\n"
      ],
      "metadata": {
        "id": "yNGCBz7Y7gRC"
      }
    },
    {
      "cell_type": "code",
      "execution_count": null,
      "metadata": {
        "id": "mjSXlRmb8Bwp",
        "cellView": "form"
      },
      "outputs": [],
      "source": [
        "#@title Run this block always\n",
        "install.packages(\"modeldata\")\n",
        "## load packages\n",
        "library(tidyverse)\n",
        "library(modeldata)"
      ]
    },
    {
      "cell_type": "markdown",
      "source": [
        "# Visualizing data\n",
        "\n",
        "Data come in many types and can be analyzed in many ways. In Chemistry and Biochemistry, we sometimes use statistics to summarize the measurements, while other times we show the raw data such as measuring the absorbance of a sample. In most instances, both showing a plot and a summary table of statistics is helpful, especially when you have complex data. In this module, we will introduce some best practices and expectations for plotting data. We will also introduce the basics of plotting data in R using the `ggplot2` package.\n",
        "\n",
        "---\n",
        "\n",
        "## Why visualize data?\n",
        "Chemistry data often come in the form of numbers. Think about some of the values you may have determined in lab: mass, density, rate, absorbance, pH, etc. Comparison of a few measurements is easy, however as the size of the data increases, so does the complexity of the analysis required to make comparisons.\n",
        "\n",
        "The table below shows part of a data set on the content of 100 meat samples. The data were collected by spectroscopy and those measurements used to calculate the fat, water, and protein content of the meat sample. Looking at the data, what is the relationship between the fat, water, and protein content?\n",
        "\n",
        "\n"
      ],
      "metadata": {
        "id": "bX7b2V_M9cef"
      }
    },
    {
      "cell_type": "code",
      "source": [
        "#@title Run this block to see the table\n",
        "library(modeldata)\n",
        "data(meats)\n",
        "\n",
        "# convert meats to long format\n",
        "tbl <- meats %>%\n",
        "  select(101:103)\n",
        "\n",
        "colnames(tbl) <- c(\"% water\", \"% fat\", \"% protein\")\n",
        "\n",
        "\n",
        "head(tbl)"
      ],
      "metadata": {
        "id": "MX-s9jo5-ZMZ",
        "cellView": "form"
      },
      "execution_count": null,
      "outputs": []
    },
    {
      "cell_type": "markdown",
      "source": [
        "Using the numbers alone, the relationships between these parameters is not clear. This is when making a picture of the data in the form of a plot is valuable. Let's take a look at a plot showing the percent fat vs. the percent protein."
      ],
      "metadata": {
        "id": "pemWyKlC_Bbh"
      }
    },
    {
      "cell_type": "code",
      "source": [
        "#@title Run this block to see the plot\n",
        "data(\"meats\")\n",
        "\n",
        "# convert meats to long format\n",
        "tbl <- meats %>%\n",
        "  select(101:103)\n",
        "\n",
        "ggplot(tbl, aes(x = protein, y = fat)) +\n",
        "  geom_point(alpha = 0.5) +\n",
        "  theme_classic() +\n",
        "  theme(legend.position = \"none\",\n",
        "        axis.text = element_text(size = 20),\n",
        "        axis.title = element_text(size = 24)) +\n",
        "  labs(x = \"% protein\", y = \"% fat\")"
      ],
      "metadata": {
        "cellView": "form",
        "id": "xw1v-0-xw0AD"
      },
      "execution_count": null,
      "outputs": []
    },
    {
      "cell_type": "markdown",
      "source": [
        "\n",
        "Plotting the reveals a strong trend where as protein content increases, the fat content decreases. Without plotting the data, this trend would not be obvious. One caveat is that while this plot shows the trend, it is not very effective at communicating the data. In the next two sections, you will explore both plotting data to observe trends and formatting the plot to communicate data effectively.\n",
        "\n",
        "---\n",
        "\n",
        "\n",
        "In the next sections you will be plotting a data set in a few different ways and asked to provide information about the content. Then you will be shown the elements of a good plot and be tasked with constructing this plot.\n",
        "\n",
        "---\n",
        "\n",
        "Pre-loaded is a data measuring the rate of cricket chirps from two different species at several temperatures. The data frame is shown below so you can see how the observations are labeled in the data.\n",
        "\n",
        "---\n"
      ],
      "metadata": {
        "id": "9mAiIwqTxXc4"
      }
    },
    {
      "cell_type": "code",
      "source": [
        "#@title Run this block to see the data frame organization\n",
        "data(crickets)\n",
        "head(crickets)\n"
      ],
      "metadata": {
        "id": "vo2e1M-14Kkr",
        "cellView": "form"
      },
      "execution_count": null,
      "outputs": []
    },
    {
      "cell_type": "markdown",
      "source": [
        "\n",
        "For this part of the module, **we want to visualize the effect of temperature on cricket. How would you plot that?**\n",
        "\n",
        "Work to plot the data and then answer the questions below. As you are making the plot, think about 1) how you can show the trend in the measurements and 2) how the data fall along that trend."
      ],
      "metadata": {
        "id": "K5PP3UyqHMw_"
      }
    },
    {
      "cell_type": "code",
      "source": [
        "# load the data, don't change lines 2 or 3\n",
        "data(crickets)\n",
        "df <- crickets\n",
        "\n",
        "# make a ggplot2\n",
        "ggplot(df) +\n",
        "\n",
        "# pick the geom and fill in the x and y values\n",
        "  geom_ (aes(x = , y = ))\n",
        "\n",
        "# you can customize this further\n",
        "# remember to add the + sign on line 9 if you do!"
      ],
      "metadata": {
        "id": "yRGE_hVtHjoZ"
      },
      "execution_count": null,
      "outputs": []
    },
    {
      "cell_type": "markdown",
      "source": [
        "\n",
        "So now you have a basic plot of rate vs temperature. Great!\n",
        "\n",
        "Even if you used a different geom or added customization, hopefully it looks something like this:\n",
        "\n",
        "![plot1.png](data:image/png;base64,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)\n"
      ],
      "metadata": {
        "id": "83pQAaTdI5DZ"
      }
    },
    {
      "cell_type": "markdown",
      "source": [
        "What aspects of the plot could be improved to make it more informative and accessible to your viewer?\n",
        "\n",
        "---\n",
        "\n",
        "Good data visuals have a few common elements:\n",
        "\n",
        "\n",
        "1.   **Labels** -- Describe what information is plotted and units\n",
        "2.   **Color** -- Make the data points stand out and differentiate between variables as needed\n",
        "3.   **Text** -- Clean font and large enough to read\n",
        "4.   **Simplicity** -- Show only what is needed to make your point\n",
        "5.   **Legend** -- Describe the experiment and data in text\n",
        "\n",
        "---\n",
        "Let's add those elements to the plot, exploring bad examples and fixing them. Then, you will combine the good elements together into the final plot.\n",
        "\n",
        "---\n",
        "\n",
        "## Labels\n",
        "\n",
        "Poor labeling or not labeling leaves your viewer to speculate as to what they are seeing. Similarly, not having units on your axes leads to frustration from your chem professors 😉 and can also change the interpretation of the data.\n",
        "\n",
        "Good data sets will have some way to indicate the units, whether in the form of a data dictionary, a README file, or embedding units in the column names. Run the code below to learn about the crickets data and the units.\n"
      ],
      "metadata": {
        "id": "1EOXiTvkK613"
      }
    },
    {
      "cell_type": "code",
      "source": [
        "# first run the code below to lean more about the data set\n",
        "# this will open a help window to describe the data\n",
        "?modeldata::crickets\n"
      ],
      "metadata": {
        "id": "RVaFfVkQUOLZ"
      },
      "execution_count": null,
      "outputs": []
    },
    {
      "cell_type": "markdown",
      "source": [
        "\n",
        "Below is the rate vs. temperature plot, but with poor units. Run the code to make the plot, then fix the code to improve the units based on what you learned from the help information."
      ],
      "metadata": {
        "id": "BOP9D8HIUYRw"
      }
    },
    {
      "cell_type": "code",
      "source": [
        "df <- crickets\n",
        "\n",
        "ggplot(df) +\n",
        "  geom_point(aes(x = rate, y = temp)) +\n",
        "\n",
        "  # change the code in line 7 to correctly title the axes\n",
        "  labs(x = \"how fast\", y = \"how hot\")"
      ],
      "metadata": {
        "id": "aYtKUUWWRRl1"
      },
      "execution_count": null,
      "outputs": []
    },
    {
      "cell_type": "markdown",
      "source": [
        "## Color\n",
        "Color is one of the most used and abused features of a plot. A poor color scheme uses hard to see colors or colors that are indistinguishable from each other. Reds and greens are a popular combination, but if you are [color blind](https://en.wikipedia.org/wiki/Color_blindness#/media/File:Braeburn_GrannySmith_dichromat_sim.jpg), these colors can look like two similar shades of grey. Therefore, it is important to choose colors that contrast well for viewers of all visual states.\n",
        "\n",
        "In the crickets data set there are two sub-sets of data, one for each species of cricket. Let's color the data by species and then, decide if we need to manually define the colors based on the result. The list of color names for ggplot is [here](https://www.pinterest.com/pin/536139530610965661/)."
      ],
      "metadata": {
        "id": "NTIbqS-iVJ-q"
      }
    },
    {
      "cell_type": "code",
      "source": [
        "df <- crickets\n",
        "\n",
        "ggplot(df) +\n",
        "  # make the data color dependent on the species\n",
        "  geom_point(aes(x = rate, y = temp, color = )) +\n",
        "\n",
        "  # if the color scheme is good, don't change line 9, if bad, remove the # and add the colors within the c()\n",
        "  # Make sure that you put quotes around the color names\n",
        "  # scale_color_manual(values = c())\n",
        "\n"
      ],
      "metadata": {
        "id": "3QtxZrxbVGhF"
      },
      "execution_count": null,
      "outputs": []
    },
    {
      "cell_type": "markdown",
      "source": [
        "## Text\n",
        "Legible text can be seen from a reasonable distance away and the letters don't appears to overlap. The default font in ggplot2 is a good general font but the letters or words need to be resized or bolded. The text in ggplot is changed within the theme function and is constructed:\n",
        "\n",
        "`theme(axis.text = element_text(...))`\n",
        "\n",
        "You define both which text to change and that you want to modify the text properties."
      ],
      "metadata": {
        "id": "gFmpKD3mYM35"
      }
    },
    {
      "cell_type": "code",
      "source": [
        "df <- crickets\n",
        "\n",
        "ggplot(df) +\n",
        "  # make the data color dependent on the species\n",
        "  geom_point(aes(x = rate, y = temp)) +\n",
        "\n",
        "  # change the axis.text and titles. Make the title size 24, the text size 20\n",
        "  theme(axis.text = element_text(size = ),\n",
        "        axis.title = )\n",
        "\n"
      ],
      "metadata": {
        "id": "h4lB6_PLgWjw"
      },
      "execution_count": null,
      "outputs": []
    },
    {
      "cell_type": "markdown",
      "source": [
        "## Simplicity\n",
        "\n",
        "This aspect of data visualization is one of the harder to learn. Because we are so familiar with our data, we often make the visual so that we can understand it, while forgetting that our audience is not as familiar with our experiment. **We must always remember that a visual is meant to be viewed by others to communicate our results.**\n",
        "\n",
        "In the plot below, the author made a fancy looking plot, but forgot to make it communicate the results well. Remove the unecessary elements to create a simpler plot."
      ],
      "metadata": {
        "id": "CxwcV6HzidVv"
      }
    },
    {
      "cell_type": "code",
      "source": [
        "df <- crickets\n",
        "\n",
        "ggplot(df) +\n",
        "\n",
        "  geom_point(aes(x = rate, y = temp, color = species, size = temp)) +\n",
        "\n",
        "  geom_smooth(aes(x = rate, y = temp), method = \"lm\", se = FALSE, color = \"black\", size = 4) +\n",
        "\n",
        "  geom_line(aes(x = rate, y = temp, color = species), size = 2) +\n",
        "\n",
        "  theme_linedraw() +\n",
        "\n",
        "  theme(axis.text = element_text(size = 22),\n",
        "        axis.title = element_text(size = 26),\n",
        "        strip.text = element_text(size = 24)) +\n",
        "\n",
        "  facet_wrap(.~species)"
      ],
      "metadata": {
        "id": "7HJNCI_AkEs7"
      },
      "execution_count": null,
      "outputs": []
    },
    {
      "cell_type": "markdown",
      "source": [
        "In the final code block, make a plot of the data using all the fixes that you made above. Add further customizations if you want to make this a good data visual."
      ],
      "metadata": {
        "id": "yeZlTeJ4lmSL"
      }
    },
    {
      "cell_type": "code",
      "source": [
        "df <- crickets\n",
        "\n",
        "ggplot(df) +\n",
        "# add the color by species command\n",
        "  geom_point(aes(x = rate, y = temp)) +\n",
        "# add your lines of good code below"
      ],
      "metadata": {
        "id": "EVgV1dhtllyT"
      },
      "execution_count": null,
      "outputs": []
    }
  ]
}