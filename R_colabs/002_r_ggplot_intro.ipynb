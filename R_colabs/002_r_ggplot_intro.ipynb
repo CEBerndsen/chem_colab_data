{
  "nbformat": 4,
  "nbformat_minor": 0,
  "metadata": {
    "colab": {
      "provenance": []
    },
    "kernelspec": {
      "name": "ir",
      "display_name": "R"
    },
    "language_info": {
      "name": "R"
    }
  },
  "cells": [
    {
      "cell_type": "markdown",
      "source": [
        "# Intro to chemistRy\n",
        "\n",
        "Welcome to the *chemistRy*, a product of the JMU Department of Chemistry and Biochemistry. This is the second lesson in the series which  aims to teach you about data visualization, data tidying, statistics, and a bit of R coding. If you don't know how to code, don't worry! These lessons assume no prior knowledge of code or R.\n",
        "\n",
        "A few things to start:\n",
        "\n",
        "1.   These lessons only work in Google Chrome\n",
        "2.   Make your copy by going to File> Save a Copy in Drive; then locate a spot in your Drive folder\n",
        "3.   This is a special Google Colab for R, regular Colab runs in Python. If you want to make your own R notebook, follow this [link](https://colab.research.google.com/drive/16u6W4rl-AHX_yXlQx7HcgjAuNimfqwj_).\n",
        "\n",
        "If you have questions, feel free to contact Dr. Chris Berndsen in the JMU Chemistry Department.\n"
      ],
      "metadata": {
        "id": "yNGCBz7Y7gRC"
      }
    },
    {
      "cell_type": "code",
      "execution_count": null,
      "metadata": {
        "id": "mjSXlRmb8Bwp",
        "cellView": "form"
      },
      "outputs": [],
      "source": [
        "#@title Run this block to set up the system\n",
        "#@markdown It make take up to a minute to complete (usually much less)\n",
        "install.packages(\"modeldata\")\n",
        "## load packages\n",
        "library(tidyverse)\n",
        "library(modeldata)"
      ]
    },
    {
      "cell_type": "markdown",
      "source": [
        "# Visualizing data\n",
        "\n",
        "Data come in many types and can be analyzed in many ways. In Chemistry and Biochemistry, we sometimes use statistics to summarize the measurements, while other times we show the raw data such as measuring the absorbance of a sample. In most instances, both showing a plot and a summary table of statistics is helpful, especially when you have complex data. In this module, we will also introduce the basics of plotting data in R using the `ggplot2` package. This package will be the primary package for data visualization in later modules.\n",
        "\n",
        "In the next sections you will be plotting a data set in `ggplot2` and then trying a few variations on plotting the data set. Finally, you will be shown the elements of a good plot and be tasked with constructing a good plot.\n",
        "\n",
        "---\n",
        "\n",
        "## Why visualize data?\n",
        "Chemistry data often come in the form of numbers. Think about some of the values you may have determined in lab: mass, density, rate, absorbance, pH, etc. Comparison of a few measurements is easy, however as the size of the data increases, so does the complexity of the analysis required to make comparisons.\n",
        "\n",
        "The table below shows part of a data set on the content of 100 meat samples. The data were collected by spectroscopy and those measurements used to calculate the fat, water, and protein content of the meat sample. Looking at the data, what is the relationship between the fat, water, and protein content?\n",
        "\n",
        "\n"
      ],
      "metadata": {
        "id": "bX7b2V_M9cef"
      }
    },
    {
      "cell_type": "code",
      "source": [
        "#@title Run this block to see the table\n",
        "library(modeldata)\n",
        "data(meats)\n",
        "\n",
        "# convert meats to long format\n",
        "tbl <- meats %>%\n",
        "  select(101:103)\n",
        "\n",
        "colnames(tbl) <- c(\"% water\", \"% fat\", \"% protein\")\n",
        "\n",
        "\n",
        "head(tbl)"
      ],
      "metadata": {
        "id": "MX-s9jo5-ZMZ"
      },
      "execution_count": null,
      "outputs": []
    },
    {
      "cell_type": "markdown",
      "source": [
        "Using the numbers alone, the relationships between these parameters is not clear. This is when making a picture of the data in the form of a plot is valuable. Let's take a look at a plot showing the percent fat vs. the percent protein."
      ],
      "metadata": {
        "id": "pemWyKlC_Bbh"
      }
    },
    {
      "cell_type": "code",
      "source": [
        "#@title Run this block to see the plot\n",
        "data(\"meats\")\n",
        "\n",
        "# convert meats to long format\n",
        "tbl <- meats %>%\n",
        "  select(101:103)\n",
        "\n",
        "ggplot(tbl, aes(x = protein, y = fat)) +\n",
        "  geom_point(alpha = 0.5) +\n",
        "  theme_classic() +\n",
        "  theme(legend.position = \"none\",\n",
        "        axis.text = element_text(size = 20),\n",
        "        axis.title = element_text(size = 24)) +\n",
        "  labs(x = \"% protein\", y = \"% fat\")"
      ],
      "metadata": {
        "cellView": "form",
        "id": "xw1v-0-xw0AD"
      },
      "execution_count": null,
      "outputs": []
    },
    {
      "cell_type": "markdown",
      "source": [
        "\n",
        "Plotting the reveals a strong trend where as protein content increases, the fat content decreases. Without plotting the data, this trend would not be obvious. One caveat is that while this plot shows the trend, it is not very effective at communicating the data. In the next two sections, you will explore both plotting data to observe trends and formatting the plot to communicate data effectively.\n",
        "\n",
        "# Using the ggplot2 package\n",
        "\n",
        "`ggplot2` is a popular **package** in R. A package is a collection of functions or code for R, sort of like Microsoft Excel runs within Windows or Safari runs in MacOS. Functions are usually given a name followed by `()`. In the previous module, you used `mean()` to calculate an average value. Inside the parenthesis, you put your data or the numbers.  In the case of ggplot2, these functions create the various aspects of the plot like the color scheme, the type of plot, or whether there should be a title. We combine the functions together using a + sign between the functions. When we combine all these individual tasks together, we get a beautiful plot.\n",
        "\n",
        "There are a few terms to know before we look at the code:\n",
        "\n",
        "| term  | definition  | code  | code example  |\n",
        "|---|---|---|---|\n",
        "| function  | a group of commands that acts on a piece of data  | ...()  | ggplot(df) or geom_point()  |\n",
        "|  aes |  aesthetic or features of the plot that change with the data |  aes(...) | aes(x = temp, y = rate, fill = species  |\n",
        "| theme  | changes the non-data parts of the plot  |  theme() | theme(axis.text = element_text(size = 20)  |\n",
        "|  geom | the type of plot  | geom_  | geom_point()  |\n",
        "\n",
        "\n",
        "Now, let's look at the code for the plot above on meats and how the functions in the ggplot2 package combine. Pay attention to where and how the terms and functions are used to make the plot starting in line 11."
      ],
      "metadata": {
        "id": "9mAiIwqTxXc4"
      }
    },
    {
      "cell_type": "code",
      "source": [
        "# this line selects the data set to use\n",
        "data(\"meats\")\n",
        "\n",
        "# you can ignore these lines for now\n",
        "# lines 5 and 6 trim down the meats data set using a pipe\n",
        "# we will learn about piping later\n",
        "tbl <- meats %>%\n",
        "  select(101:103)\n",
        "\n",
        "# making the ggplot!\n",
        "\n",
        "# choose the ggplot function\n",
        "# set data to plot to tbl, and choose the x and y variables, these are the column names in a spreadsheet\n",
        "# the aes means aesthetic and chooses the variables\n",
        "ggplot(data = tbl, aes(x = protein, y = fat)) +\n",
        "\n",
        "  # choose the geom or type of plot, in this case a point or scatter plot\n",
        "  geom_point() +\n",
        "\n",
        "  # define how the plots looks, classic theme in this case\n",
        "  theme_classic() +\n",
        "\n",
        "  # hide the legend\n",
        "  theme(legend.position = \"none\",\n",
        "        # change the axis label text to size 20\n",
        "        axis.text = element_text(size = 20),\n",
        "        # change the axis title text to size 24\n",
        "        axis.title = element_text(size = 24)) +\n",
        "\n",
        "  # label the axes, with units!\n",
        "  labs(x = \"% protein\", y = \"% fat\")"
      ],
      "metadata": {
        "id": "vo2e1M-14Kkr"
      },
      "execution_count": null,
      "outputs": []
    },
    {
      "cell_type": "markdown",
      "source": [
        "Whew! That took a lot of code to make the plot! Why would you ever use ggplot rather than using the chart button in Microsoft Excel or Google Sheets? Here are some reasons related to science and communication:\n",
        "\n",
        "*   Once you make the plot, you can use the same code for other data sets and have them all look the same --> **makes it easier to compare data sets**\n",
        "*   Easy to find where to customize an aspect of the plot\n",
        "*   You have full control over every part of the plot\n",
        "*   Many more ways to show data and communicate your data\n",
        "---\n",
        "\n",
        "## Changing a Plot\n",
        "\n",
        "Now, let's play with customizing a ggplot a bit and compare what each change does.\n",
        "\n",
        "Below are a series of tasks to complete, make the changes to the specific code line then run the code. Copy the resulting image to a document, in a section called Changing a Plot and how the plot looks different with each change. You will turn this in on Canvas at the end of completing the module.\n",
        "\n",
        "*If the code fails and you cannot figure out the issue, what went wrong, copy the code from above and overwrite the problem code. Then try again.*\n",
        "\n",
        "\n",
        "\n",
        "1. Switch the variables on x and y, change x to fat, and y to protein\n",
        "2. Correct the labeling of the axes to reflect the change in task 1\n",
        "3. Inside the aes(...) in line 9, add `, color = protein`\n",
        "4. Inside geom_point(...) on line 11, type `aes(size = fat)`\n",
        "5. Change the theme on line 13 from classic, to bw\n",
        "6. Change the plot type to geom_line (but don't change the aes(...) from line 4)\n",
        "\n",
        "\n",
        "\n",
        "\n"
      ],
      "metadata": {
        "id": "7-I8K-DL9mKp"
      }
    },
    {
      "cell_type": "code",
      "source": [
        "# this line selects the data set to use\n",
        "data(\"meats\")\n",
        "# lines 5 and 6 trim down the meats data set using a pipe\n",
        "# we will learn about piping later\n",
        "tbl <- meats %>%\n",
        "  select(101:103)\n",
        "\n",
        "## make the changes below only!\n",
        "ggplot(data = tbl, aes(x = protein, y = fat)) +\n",
        "\n",
        "  geom_point() +\n",
        "\n",
        "  theme_classic() +\n",
        "\n",
        "  theme(legend.position = \"none\",\n",
        "        axis.text = element_text(size = 20),\n",
        "        axis.title = element_text(size = 24)) +\n",
        "\n",
        "  labs(x = \"% protein\", y = \"% fat\")"
      ],
      "metadata": {
        "id": "7gzPX1J3_VWz"
      },
      "execution_count": null,
      "outputs": []
    },
    {
      "cell_type": "markdown",
      "source": [
        "An answer key will be available after this assignment has closed so that you can see plot should have looked like if you completed all 6 tasks correctly."
      ],
      "metadata": {
        "id": "Cfofo1QCCM9U"
      }
    },
    {
      "cell_type": "markdown",
      "source": [
        "# Exploring your data\n",
        "Sometimes, you don't know how the data should be plotted until after you have explored different plotting styles and approaches. This is especially true with larger data sets. In the final section, you are going to make a plot of a data set from [Brodnjak-Vončina, D., Kodba, Z. C., & Novič, M. (2005). Multivariate data analysis in classification of vegetable oils characterized by the content of fatty acids. Chemometrics and Intelligent Laboratory Systems, 75(1), 31–43.](https://www.sciencedirect.com/science/article/abs/pii/S0169743904001200). The scientists measured the different type of fat molecules in various for 96 vegetables and how much of that fat was in the vegetable. A short table of the data will be shown after you run the code box below."
      ],
      "metadata": {
        "id": "-but6eN5Dp40"
      }
    },
    {
      "cell_type": "code",
      "source": [
        "data(oils)\n",
        "\n",
        "head(oils)"
      ],
      "metadata": {
        "id": "qJ9OW2G1EFge"
      },
      "execution_count": null,
      "outputs": []
    },
    {
      "cell_type": "markdown",
      "source": [
        "Your assignment is to create **two** plots from these data. The first should compare fatty acid content among the vegetables and the second should show a relationship you identified by exploring the data. In both cases, the plot should be clear, well-labeled, and accessible.\n",
        "\n",
        "To help you, two code blocks are set up below. The first gives you a sense of how to construct the comparison of fatty acids in each vegetable. The second code block provides a skeleton ggplot code, which you can customize. There are many ways to get credit for these problems.\n",
        "\n",
        "# Comparison of fatty acid content in vegetables"
      ],
      "metadata": {
        "id": "WPoyVVpNFAwR"
      }
    },
    {
      "cell_type": "code",
      "source": [
        "data(oils)\n",
        "\n",
        "# use ggplot, use the table above to choose which columns to use and put on x or y\n",
        "ggplot(data = oils, aes(x = _____, y = ______)) +\n",
        "\n",
        "  # pick a geom: geom_point(), geom_col(), geom_hist(), geom_jitter()\n",
        "  # don't forget to include the parenthesis!\n",
        "  geom_   +\n",
        "\n",
        "  # set the axis.title font size to at least 20 and axis.text to at least 16\n",
        "  # go back and review how we did this in the meat plot if you forgot the code\n",
        "  theme() +\n",
        "\n",
        "  # add the axis title labels for x and y\n",
        "  # note how \"\" are used in the the meat plot labels\n",
        "  labs()"
      ],
      "metadata": {
        "id": "GzN77DbaGFCb"
      },
      "execution_count": null,
      "outputs": []
    },
    {
      "cell_type": "markdown",
      "source": [
        "# Exploring the data!\n",
        "Remember in the second plot, you should explore the data to look for something interesting or just make a fun plot. An outline of code is provided in the code block below and a table below the code shows some extra customizations that you can play with."
      ],
      "metadata": {
        "id": "kdX549-Tl3Uw"
      }
    }
  ]
}