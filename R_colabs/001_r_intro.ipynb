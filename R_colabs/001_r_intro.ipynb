{
  "nbformat": 4,
  "nbformat_minor": 0,
  "metadata": {
    "colab": {
      "provenance": []
    },
    "kernelspec": {
      "name": "ir",
      "display_name": "R"
    },
    "language_info": {
      "name": "R"
    }
  },
  "cells": [
    {
      "cell_type": "markdown",
      "source": [
        "# Intro to chemistRy\n",
        "\n",
        "Welcome to the *chemistRy*, a product of the JMU Department of Chemistry and Biochemistry. This lesson and subsequent ones aim to teach you about data visualization, data tidying, statistics, and a bit of R coding. If you don't know how to code, don't worry! These lessons assume no prior knowledge of code or R.\n",
        "\n",
        "A few things to start:\n",
        "\n",
        "1.   These lessons only work in Google Chrome\n",
        "2.   If you want to save your progress, go to File> Save a Copy in Drive; then locate a spot in your Drive folder\n",
        "3.   This is a special Google Colab for R, regular Colab runs in Python. If you want to make your own R notebook, follow this [link](https://colab.research.google.com/drive/16u6W4rl-AHX_yXlQx7HcgjAuNimfqwj_).\n",
        "\n",
        "If you have questions, feel free to contact Dr. Chris Berndsen in the JMU Chemistry Department.\n"
      ],
      "metadata": {
        "id": "yNGCBz7Y7gRC"
      }
    },
    {
      "cell_type": "markdown",
      "source": [
        "# Introduction to R\n",
        "\n",
        "\n",
        "R is a computer language that is associated with statistical analysis and data visualization. However, it has many uses including for data visualization and analysis in chemistry and biochemistry. While Microsoft Excel and Google Sheets can perform many of the tasks that we will learn to do in R, these programs are limited in their ability to work with and visualize large or complex data sets. Moreover, much of Excel and Sheets is designed for simplicity over customization.\n",
        "\n",
        "In this course, you will use both Google Sheets and R to complete tasks to develop your data analysis and data visualization skills. While R may be difficult to use in the beginning, the experience of learning a bit of computational thinking and the practice applying problem solving skills provide gains outside of the chemistry world. Through these modules you will explore R programming and develop your skills in data analysis and visualization.\n",
        "\n",
        "\n",
        "---\n",
        "# Definitions\n",
        "We start with a few definitions to help you succeed in learning R and completing the tasks.\n",
        "\n",
        "A **code chunk** is what you see below:"
      ],
      "metadata": {
        "id": "bX7b2V_M9cef"
      }
    },
    {
      "cell_type": "code",
      "execution_count": null,
      "metadata": {
        "id": "mjSXlRmb8Bwp"
      },
      "outputs": [],
      "source": [
        "## comments look like this\n",
        "code looks like this"
      ]
    },
    {
      "cell_type": "markdown",
      "source": [
        "These code chunks show examples of code along with **comments**. The comments are preceded by two `##` symbols. These are not lines that the computer reads, but lines for you, the reader, to read and learn from. As we move forward in these modules, the `##` will also serve as notes to future you and your instructor as you explain what you are doing. *Think of comments like your lab notebook, it is a way to keep notes and indicate what you are doing and observe.*\n",
        "\n",
        "\n",
        "---\n",
        "\n",
        "There will also be interactive chunks of code like shown below:"
      ],
      "metadata": {
        "id": "OZtkbUiH-Fvf"
      }
    },
    {
      "cell_type": "code",
      "source": [
        "## This chunk of code is interactive and you can type into these blocks\n",
        "\n",
        "## Substitute your name in the blank space.\n",
        "print(\"Hello, ______. You just ran R code!\")\n",
        "\n",
        "## Press the Run Code button at the left side of this chunk to see the result"
      ],
      "metadata": {
        "id": "MX-s9jo5-ZMZ"
      },
      "execution_count": null,
      "outputs": []
    },
    {
      "cell_type": "markdown",
      "source": [
        "As you are typing in the code chunks to complete the tasks, you may see suggestion or pop-up windows that look like:\n",
        "\n",
        "![popup.png](data:image/png;base64,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)"
      ],
      "metadata": {
        "id": "hGBXswKb-lKJ"
      }
    },
    {
      "cell_type": "markdown",
      "source": [
        "The suggestions *may* help you but are not always correct, so be careful in using this option. The suggestions are not provided by the instructor but are built into the system.\n",
        "\n",
        "Throughout this and future modules will be tasks that will be submitted to your instructor for assessment. The aim is to make sure you are making progress toward developing your skills."
      ],
      "metadata": {
        "id": "pemWyKlC_Bbh"
      }
    },
    {
      "cell_type": "markdown",
      "source": [
        "## Assigning Values\n",
        "\n",
        "A fundamental skill in R is assigning a value, which allows you to refer to one or more pieces of data in a simple way. To assign a value, first pick a name like x or df and then type an arrow using the left carat and a dash `<-`. Then assign the value.\n",
        "\n",
        "For example, let's assign the value of 12 to the letter w. We would type `w <- 12` and then press the \"Run\" button to let R know that w has a value of 12. Try the exercise below and assign values as instructed."
      ],
      "metadata": {
        "id": "-vMDF_fd_INi"
      }
    },
    {
      "cell_type": "code",
      "source": [
        "## assign 3 to the letter t\n",
        "\n",
        "## type t, then press Run Code button\n"
      ],
      "metadata": {
        "id": "fQWtRkSW-x5h"
      },
      "execution_count": null,
      "outputs": []
    },
    {
      "cell_type": "markdown",
      "source": [
        "## Why assign values rather than just refer to the number?\n",
        "\n",
        "At first glance, value assignment seems ridiculous. Why refer to 3 as t, rather than use 3 in an equation? For simple assignments, this is correct, however we may want to look at a set of data and will assign multiple values to a single name. For example, a student measures the pH value for one solution five times to determine the accuracy and precision of their measurement. The values are 4.9, 5.1, 5.1, 4.8, and 5.0. To calculate the average value and the error, you could type in each number into a calculator or the R console and do all the math. Alternatively, you could assign these values to a single name and simplify your typing. In doing this, you save yourself some effort and reduce the opportunities for errors.\n",
        "\n",
        "### Naming multiple values\n",
        "\n",
        "So, how to we assign multiple values to a name? First, you select your name (ex. `ph`), draw your `<-`, then type c and () (ex. `c()`). `c()` stands for combine and takes multiple inputs and combines them into a single unit which we name. The values are entered between the parenthesis of `c()` separated by commas. If we take the pH values from the above section and put them into `c()`, our result is:\n",
        "\n",
        "`ph <- c(4.9, 5.1, 5.1, 4.8, 5.0)`\n",
        "\n",
        "The `ph` object can now be used to calculate statistical values without having to type and re-type this string every time. The formal name of the `ph` object is a **vector**. A vector requires that all the data be the same type, meaning all numbers or all text and you *cannot* mix data types.\n"
      ],
      "metadata": {
        "id": "Fkpk-ZrJ_W_y"
      }
    },
    {
      "cell_type": "code",
      "source": [
        "## assign mass the values of 120.1, 122.0, 121.6, 120, and 127\n",
        "\n",
        "\n",
        "## type mass\n",
        "\n",
        "\n",
        "## calculate the average value using the mean function --> mean()\n",
        "mean(mass)\n",
        "\n",
        "## use the sd() function to calculate the standard deviation of mass\n",
        "sd()\n",
        "\n"
      ],
      "metadata": {
        "id": "Jh6QwMAjp1BZ"
      },
      "execution_count": null,
      "outputs": []
    },
    {
      "cell_type": "markdown",
      "source": [
        "Now that we can name values and collections of values, we can begin to construct larger data sets and summarize the data contained therein.\n",
        "\n",
        "---\n",
        "\n",
        "## Math in R\n",
        "As we saw at the end of the last section, R can perform math and operations on numbers, named objects, and vectors. This is most useful when dealing with large data sets where you want to analyze your data for trends or statistics. In this section we will explore the statistical aspect and we will talk about trends in a later module.\n",
        "\n",
        "### Statistical functions\n",
        "R has main statistical **functions** `mean()`, `sd()`, `median()`, `IQR()`, and `summary()`, which report out the mean/average value, the standard deviation, the median, the inter-quartile range, and a summary of your data, respectively. A function is a simple command that does a number of operations on the input of the function. In our previous example, we calculated the mean and standard deviation as shown:\n"
      ],
      "metadata": {
        "id": "9z9YXXzUp6aj"
      }
    },
    {
      "cell_type": "code",
      "source": [
        "## make the vector ph\n",
        "\n",
        "\n",
        "## calculate the mean\n",
        "\n",
        "\n",
        "## calculate the standard deviation\n",
        "\n",
        "\n",
        "## push the run code button at left!"
      ],
      "metadata": {
        "id": "Pfq02JyPqGfi"
      },
      "execution_count": null,
      "outputs": []
    },
    {
      "cell_type": "markdown",
      "source": [
        "The input, `ph`, was enclosed by the parenthesis of our function and when we run this code we get the result. Try to calculate the median, IQR, and summary of our mass vector in the code box below."
      ],
      "metadata": {
        "id": "BVRutuIYqPNr"
      }
    },
    {
      "cell_type": "code",
      "source": [
        "## assign mass the values of 120.1, 122.0, 121.6, 120, and 127\n",
        "\n",
        "## calculate the IQR of the data in mass\n",
        "\n",
        "\n",
        "## calculate the median of the data in mass\n",
        "\n",
        "\n",
        "## summarise the data in the mass vector\n",
        "\n"
      ],
      "metadata": {
        "id": "Gr8n0Uv6qOYr"
      },
      "execution_count": null,
      "outputs": []
    },
    {
      "cell_type": "markdown",
      "source": [
        "### Mathematical calculations\n",
        "\n",
        "In addition to functions, you can do math on both numbers and named objects with one or more values. The language to do mathematical calculations is similar to that used in Google Sheets and Microsoft Excel.\n",
        "\n",
        "  - `*` is for multiplication\n",
        "  - `/` is for division\n",
        "  - `+` is for addition\n",
        "  - `-` is for subtraction\n",
        "  - `^` raises the number to a power\n",
        "\n",
        "If we want to add two numbers together, we type `2 + 14` and then run the code to produce `16`.\n",
        "\n",
        "Similarly, we can do math on a vector, the difference is that the equation acts on each number in the vector. For example, if we want to convert the pH values in the ph vector to proton concentration ([H+]), we would type `10^-ph`, run the code and the result would be `1.258925e-05 7.943282e-06 7.943282e-06 1.584893e-05 1.000000e-05`.\n",
        "\n",
        "\n",
        "---\n",
        "Now try a few examples:\n"
      ],
      "metadata": {
        "id": "zaQElpZDqch7"
      }
    },
    {
      "cell_type": "code",
      "source": [
        "## calculate the sum of 12, 16, and 34\n",
        "\n",
        "\n",
        "## calculate 3 cubed\n",
        "\n",
        "\n",
        "## assign mass the values of 120.1, 122.0, 121.6, 120, and 127\n",
        "\n",
        "\n",
        "## the values in mass are in grams, convert the values in mass to kilograms\n",
        "\n",
        "\n",
        "## you also assign actions on vectors to a new name\n",
        "## convert mass to kilograms and call it mass_kg\n"
      ],
      "metadata": {
        "id": "ZyJH83JXqj8j"
      },
      "execution_count": null,
      "outputs": []
    },
    {
      "cell_type": "markdown",
      "source": [
        "## Data frames\n",
        "In chemistry and biochemistry, we often are observing the effect of something on an outcome. The effect of reactant concentration on a reaction rate or how temperature changes the structure of a protein are good examples. In both of these examples, there are two sets of values to be considered and we might structure data in a table:"
      ],
      "metadata": {
        "id": "S7taVfmhqsQ0"
      }
    },
    {
      "cell_type": "code",
      "source": [
        "# load the package tidyverse\n",
        "library(tidyverse)\n",
        "\n",
        "## create a data frame (named df with two columns)\n",
        "## one called concentration\n",
        "df <- data.frame(concentration = c(0, 1, 2, 4, 8, 16, 32, 64, 128),\n",
        "             ## and one called rate\n",
        "             rate = c(0, 0.1, 0.24, 0.37, 0.82, 1.55, 3.1, 6.7, 12.2))\n",
        "\n",
        "# show the data table\n",
        "df"
      ],
      "metadata": {
        "id": "iF-4PiL-qxoc"
      },
      "execution_count": null,
      "outputs": []
    },
    {
      "cell_type": "markdown",
      "source": [
        "Alternatively, you could enter the data into Microsoft Excel or Google Sheets as a spreadsheet and then import the file into R. We will use both methods.\n",
        "\n",
        "---\n",
        "\n",
        "### Tidy tables and data\n",
        "\n",
        "Data frames are only useful forms of data if they are constructed carefully and **tidily**. In a tidy table, each column contains observations of a single type and each row represents a single observation. An untidy table is shown below:"
      ],
      "metadata": {
        "id": "lXNno36erpr2"
      }
    },
    {
      "cell_type": "code",
      "source": [
        "library(tidyverse)\n",
        "\n",
        "# make the data table (called a tibble here)\n",
        "df <- tibble(concentration = c(\"0\", \"1 M\", \"2000 mM\", \"4.00001\", \"8\", \"16\", \"32 M\", \"64 M\", \"128 M\"),\n",
        "             rate = c(\"0\", \"0.1 nmol/sec\", \"0.24 U/sec\", \"0.37\", \"0.82\", \"1.55\", \"3.1\", \"6.7\", \"12.2\"),\n",
        "             color = c(\"red\", \"red\", \"pink\", \"pink-ish\", \"cloudy but pink\", \"pink\", \"clear\", \"transparent\", \"light pink\"),\n",
        "             measurements = c(\"2 replicates\", \"3\", \"3\", \"2 + 1\", \"4\", \"6\", \"3\", \"3\", \"3\"))\n",
        "\n",
        "#show the data table\n",
        "df"
      ],
      "metadata": {
        "id": "aggjq4oxry6l"
      },
      "execution_count": null,
      "outputs": []
    },
    {
      "cell_type": "markdown",
      "source": [
        "***The table above has issues!***\n",
        "\n",
        "  1. The *concentration* and *rate* columns have issues with numbers with and without units.\n",
        "  \n",
        "  2. The *concentration* and *rate* columns show different units of measurement.\n",
        "  \n",
        "  3. The *color* column has inconsistent wording of color.Defined colors are used sometimes and then -ish or words like transparent and clear used at other times.\n",
        "  \n",
        "  4. The measurements column has replicates used in one observation and then `2+1`. What does that even mean?\n",
        "  \n",
        "  5. Significant figures are a mess and inconsistent!\n",
        "\n",
        "We likely all have made tables like the untidy one when we started out or were in a hurry. However, untidy tables create issues with accessibility and communicating with others in addition to creating problems when trying to analyze and visualize the data. How can we fix the table?\n",
        "\n",
        "\n",
        "---\n",
        "\n",
        "One easy fix would be to make sure that all the numbers have consistent units which are indicated in the column headers. A second more difficult fix would be to ensure that all measurements are standardized or scored using the same scale to avoid pink vs. clear issues. This latter solution requires good communication and a bit of planning in advanced, but will save you from some frustrating times later on.\n",
        "\n",
        "Let's look at the same data, but in tidy format:"
      ],
      "metadata": {
        "id": "Mwv43BZascUx"
      }
    },
    {
      "cell_type": "code",
      "source": [
        "library(tidyverse)\n",
        "\n",
        "#make the table\n",
        "df <- tibble(\"concentration (M)\" = c(0, 1, 2, 4, 8, 16, 32, 64, 128),\n",
        "             \"rate (nmol/sec)\" = c(0, 0.10, 0.24, 0.37, 0.82, 1.5, 3.1, 6.7, 12),\n",
        "             \"absorbance at 450 nm\" = c(0.05, 0.07, 0.08, 0.10, 0.11, 0.13, 0.15, 0.18, 0.21),\n",
        "             \"turbidity (NTU)\" = c(1, 1, 1, 1, 1, 2, 3, 6, 10),\n",
        "             \"number of trials\" = c(2, 3, 3, 3, 4, 6, 3, 3, 3))\n",
        "\n",
        "# view the table\n",
        "df"
      ],
      "metadata": {
        "id": "oBpmoQHCsoLm"
      },
      "execution_count": null,
      "outputs": []
    },
    {
      "cell_type": "markdown",
      "source": [
        "This table looks a lot better! Notice how units are included in the column headers and  the numbers in each column use the same units. In addition, the color column was changed from using a qualitative and inconsistent measurement like pink or red to using a spectrophotometer to measure absorbance. Then a new set of observations called turbidity was collected specifically focusing on the clarity of the sample. Finally, the number of trials is standardized. Now it is clear what the numbers represent and we can start to think about analyzing these data.\n",
        "\n",
        "\n",
        "---\n",
        "\n",
        "\n",
        "\n",
        "### Math in data frames\n",
        "\n",
        "Like vectors, data in data frames can be analyzed and summarized. Run the code below and compare the differences between the first command and the second command."
      ],
      "metadata": {
        "id": "XzZdu7sDs1lR"
      }
    },
    {
      "cell_type": "code",
      "source": [
        "## create the data frame of mass and volume measurements\n",
        "df <- data.frame(\"mass\" = c(100, 105, 102, 92, 117),\n",
        "                 \"volume\" = c(15, 14, 9.0, 16, 13))\n",
        "\n",
        "## summarise the data in df\n",
        "summary(df)\n",
        "\n",
        "# summarize just the data in the mass column\n",
        "summary(df$mass)"
      ],
      "metadata": {
        "id": "kIMPr4bMtCBh"
      },
      "execution_count": null,
      "outputs": []
    },
    {
      "cell_type": "markdown",
      "source": [
        "The command in line 6 shows the summary of both columns, while the command in line 9, results in the lower set of numbers.\n",
        "\n",
        "Notice in the second command, the inclusion of `$`. A data frame name, followed by `$` and a column name (from the data frame), allows you to isolate only that column within the data frame for a function or doing calculations. For summarizing data, this can reduce the size of the results especially if you have parts of the data frame that aren't numbers or that you are not focusing on.\n",
        "\n",
        "Now let's try some math using `$` to select a specific column."
      ],
      "metadata": {
        "id": "os4YpDKgtKv7"
      }
    },
    {
      "cell_type": "code",
      "source": [
        "## create the data frame of mass and volume measurements\n",
        "df <- data.frame(\"mass\" = c(100, 105, 102, 92, 117),\n",
        "                 \"volume\" = c(15, 14, 9.0, 16, 13))\n",
        "\n",
        "## calculate the average of mass and name that mass_avg\n",
        "\n",
        "## calculate the average of volume and name that vol_avg\n",
        "\n",
        "## calculate the density from the averages"
      ],
      "metadata": {
        "id": "gsiyI6rPtNrK"
      },
      "execution_count": null,
      "outputs": []
    },
    {
      "cell_type": "markdown",
      "source": [
        "Is is possible to create a new column which calculates the density for each mass and volume pair using `$`?  Let's try it!"
      ],
      "metadata": {
        "id": "Hw9bpW3xtd-B"
      }
    },
    {
      "cell_type": "code",
      "source": [
        "## create the data frame of mass and volume measurements\n",
        "df <- data.frame(\"mass\" = c(100, 105, 102, 92, 117),\n",
        "                 \"volume\" = c(15, 14, 9.0, 16, 13))\n",
        "\n",
        "## calculate the density of each pair of samples\n",
        "\n",
        "\n",
        "## try the same command, but assign it to a new column called density in the data frame.\n",
        "## Hint: if the column already existed in the data frame how would you refer to it?\n"
      ],
      "metadata": {
        "id": "UROclak2te7K"
      },
      "execution_count": null,
      "outputs": []
    },
    {
      "cell_type": "markdown",
      "source": [
        "# Practice problem\n",
        "\n",
        "In the R chunk below is an untidy data frame that needs to be fixed. Then, you calculate the rate values in mol/sec from the time and product data sets. Complete these tasks and create your final table. (See [here](https://colab.research.google.com/drive/1VaInetSJPAymyW51BRegmV4RLZXKdNLm#scrollTo=gsiyI6rPtNrK&line=7&uniqifier=1) and [here](https://colab.research.google.com/drive/1VaInetSJPAymyW51BRegmV4RLZXKdNLm#scrollTo=UROclak2te7K&line=1&uniqifier=1) for help with this problem)"
      ],
      "metadata": {
        "id": "j6cvqTR4tmr7"
      }
    },
    {
      "cell_type": "code",
      "source": [
        "## clean up the data frame of product formed and time measurements\n",
        "# time data should be in seconds\n",
        "df <- data.frame(\"time\" = c(5, 10, 20 sec, 30, 1 min, 120, 10 min),\n",
        "                 # product data should be in mol\n",
        "                 \"product\" = c(0.1 mol, 0.2, 0.4 moles, 0.6, 1.0, 2, 3))\n",
        "\n",
        "## calculate the rate values and add a new column called rate\n",
        " <-\n",
        "\n",
        "##  DO NOT CHANGE ANYTHING CODE BELOW THIS LINE!\n",
        "df$rate <- round(df$rate, digits = 3)"
      ],
      "metadata": {
        "id": "95Q8pkJ9ttH8"
      },
      "execution_count": null,
      "outputs": []
    },
    {
      "cell_type": "markdown",
      "source": [
        "The code chunk below is missing comments to explain what is happening. Add comments describing what is happening in each line. Remember to lead the comment lines with `#`. You can run the code to see the output if you are not sure what is happening"
      ],
      "metadata": {
        "id": "LbSOgVqnSCRp"
      }
    },
    {
      "cell_type": "code",
      "source": [
        "#\n",
        "naoh <- c(0.1, 0.2, 0.3, 0.4, 0.5, 0.6, 0.7, 0.8, 0.9, 1.0)\n",
        "\n",
        "ph <- c(1, 3, 4, 4.2, 4.3, 4.4, 4.8, 6, 9, 14)\n",
        "\n",
        "ph_df <- data.frame(naoh = naoh,\n",
        "                    ph = ph)\n",
        "\n",
        "plot(ph_df)\n",
        "\n",
        "\n",
        "\n"
      ],
      "metadata": {
        "id": "D0gqcV0PSBdY"
      },
      "execution_count": null,
      "outputs": []
    }
  ]
}