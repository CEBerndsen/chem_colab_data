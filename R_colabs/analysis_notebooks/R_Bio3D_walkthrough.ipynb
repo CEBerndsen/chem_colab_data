{
  "nbformat": 4,
  "nbformat_minor": 0,
  "metadata": {
    "colab": {
      "provenance": []
    },
    "kernelspec": {
      "name": "ir",
      "display_name": "R"
    },
    "language_info": {
      "name": "R"
    }
  },
  "cells": [
    {
      "cell_type": "code",
      "source": [
        "#@title **1: Install packages**\n",
        "#@markdown Press PLAY **after** and wait for step to finish before moving on.\n",
        "#@markdown This step takes 5-10 minutes. So enjoy the video below, while waiting.\n",
        "\n",
        "\n",
        "# install packages\n",
        "install.packages(\"bio3d\", quietly = TRUE)\n",
        "install.packages(\"XML\", quietly = TRUE)\n",
        "install.packages(\"RCurl\", quietly = TRUE)\n",
        "install.packages(\"ggseqlogo\", quietly = TRUE)\n",
        "\n",
        "\n",
        "# load packages\n",
        "library(tidyverse, quietly = TRUE, warn.conflicts = FALSE)\n",
        "library(bio3d, quietly = TRUE, warn.conflicts = FALSE)\n",
        "library(\"XML\", \"RCurl\", quietly = TRUE, warn.conflicts = FALSE)\n",
        "library(ggseqlogo, quietly = TRUE, warn.conflicts = FALSE)\n",
        "\n",
        "# create the outputs directory\n",
        "dir.create(\"outputs\")"
      ],
      "metadata": {
        "id": "_2ZmnpS04c8b",
        "cellView": "form"
      },
      "execution_count": null,
      "outputs": []
    },
    {
      "cell_type": "markdown",
      "source": [
        "\n",
        "# Part 1: Analyzing and visualizing information in a PDB file\n",
        "\n",
        "\n",
        "Video on [Structural Bioinformatics](https://www.youtube.com/watch?v=lLLXkdTl8aQ) and [Part 2](https://www.youtube.com/watch?v=8GO9kUOPfMQ), if the process takes longer to run.\n",
        "\n",
        "\n",
        "---\n",
        "\n",
        "When the previous code block is finished, we can move to importing a structure and analyzing the data in that file. In this first step, we will use the Bio3D package and an internal function called `read.pdb` to import a structure from the [RCSB Protein DataBank or PDB](https://www.rcsb.org/). For Part 1, we will just use the information within the file.\n",
        "\n",
        "In the example, we will use the file 1Q6C which is a beta-amylase enzyme found in soybeans characterized by Hirata and coworkers. However, you can use whatever file you wish.\n",
        "\n",
        "---\n",
        "\n",
        "\n",
        "1Q6C reference:\n",
        "\n",
        "Hirata, A.; Adachi, M.; Sekine, A.; Kang, Y. N.; Utsumi, S.; Mikami, B. Structural and Enzymatic Analysis of Soybean β-Amylase Mutants with Increased pH Optimum. J. Biol. Chem. 2004, 279 (8), 7287–7295.\n",
        "  \n"
      ],
      "metadata": {
        "id": "s_NQtdssS6oz"
      }
    },
    {
      "cell_type": "code",
      "source": [
        "# load in the pdb file\n",
        "# replace the ____ with \"1q6c\" in the parenthesis\n",
        "pdb <- read.pdb(____)"
      ],
      "metadata": {
        "id": "2LG-wVNYS7GM",
        "colab": {
          "base_uri": "https://localhost:8080/"
        },
        "outputId": "6cf6dccc-6eb9-4bfe-9c37-e1555f5bb485"
      },
      "execution_count": null,
      "outputs": [
        {
          "output_type": "stream",
          "name": "stdout",
          "text": [
            "  Note: Accessing on-line PDB file\n"
          ]
        }
      ]
    },
    {
      "cell_type": "markdown",
      "source": [
        "# Select the target chain within the PDB file\n",
        "\n",
        "If your target PDB has multiple chains or proteins in it, we will need to focus on one chain at a time. Select the appropriate chain name and put that in where it says `chain = \"XXX\"`. Usually the chain name is A or B, etc.\n",
        "\n",
        "If you have a monomeric protein, put in \"A\" in the chain part and run the code block."
      ],
      "metadata": {
        "id": "hMOKF7ZJoSDF"
      }
    },
    {
      "cell_type": "code",
      "source": [
        "# select the chain\n",
        "inds <- atom.select(pdb, chain = \"xxx\")\n",
        "\n",
        "# trim the pdb file to just the chain\n",
        "pdb2 <- trim.pdb(pdb, inds)\n",
        "\n",
        "# select just the c-alphas for now\n",
        "ca.inds <- atom.select(pdb2, \"calpha\")"
      ],
      "metadata": {
        "id": "HRkdJQK4oSiH"
      },
      "execution_count": null,
      "outputs": []
    },
    {
      "cell_type": "markdown",
      "source": [
        "# Plot the B-factors and secondary structure\n",
        "\n",
        "### For files from the Protein Data Bank\n",
        "B-factors or temperature factors are an indicator of the flexibility of a molecule in the crystal. They can give a sense of the local confidence in the placement of atoms within the structure as well. Low B-factors are associated with lower flexibility while higher B-factors are associated with higher dynamics or flexibility.\n",
        "\n",
        "### For model files from AlphaFold3 or similar\n",
        "Frequently, modeling programs put confidence values in the B-factor column of a PDB file. The most common confidence number is the pLDDT score which measures the per residue confidence. The scale typically runs from 0-100. Low pLDDT scores mean low confidence, while higher scores are associated with high confidence.\n",
        "\n",
        "\n",
        "For more information on pLDDT, see [pLDDT: Understanding local confidence](https://www.ebi.ac.uk/training/online/courses/alphafold/inputs-and-outputs/evaluating-alphafolds-predicted-structures-using-confidence-scores/plddt-understanding-local-confidence/).\n",
        "\n",
        "\n",
        "\n",
        "---\n",
        "In this step, we will extract the B-factors/pLDDT scores from the PDB file and then create a data frame. This data frame will be saved in the outputs folder as a .csv and we will use it to create a plot of the B-factors.\n"
      ],
      "metadata": {
        "id": "cnZT-EOhoYI9"
      }
    },
    {
      "cell_type": "code",
      "source": [
        "# extract the b-factor data\n",
        "bf <- pdb2$atom$b[ca.inds$atom]\n",
        "\n",
        "# create a dataframe with the b-factor data\n",
        "# seq() create a series of numbers based on the from and to numbers with a step size of by\n",
        "bfac_df <- tibble(resnum = seq(from = 1, to = length(bf), by = 1),\n",
        "                  bfactor = bf)\n",
        "\n",
        "# create an outputs directory and save a spreadsheet in there called b_factors\n",
        "# save the file in the outputs folder\n",
        "\n",
        "write_csv(bfac_df, \"outputs/b_factors.csv\")\n",
        "\n",
        "# view the top of the dataframe\n",
        "head(bfac_df)"
      ],
      "metadata": {
        "id": "GghdEH7tobNo"
      },
      "execution_count": null,
      "outputs": []
    },
    {
      "cell_type": "markdown",
      "source": [
        "### plotting the B-factors\n",
        "We will visualize the B-factor data using the `ggplot2` package which is already loaded for you.\n",
        "\n",
        "The fundamental ggplot is assembled in layers and we recommend that you explore this [colab on ggplot](https://colab.research.google.com/drive/1ZgBG4rsLKBJpBrQsE4JRlDP3Q49Lrx9L?usp=sharing) if you want more experience with the package and consult this [cheatsheet](https://posit.co/wp-content/uploads/2022/10/data-visualization-1.pdf) as needed.\n",
        "\n",
        "\n",
        "\n",
        "---\n",
        "Plotting the B-factors or pLDDT values will help us see which regions of the protein are of lower certainty and potentially dynamic.\n"
      ],
      "metadata": {
        "id": "AyHIIPkAodyb"
      }
    },
    {
      "cell_type": "code",
      "source": [
        "# start a ggplot by typing ggplot()\n",
        "# inside the () put the name of the b-factor dataframe from above\n",
        "ggplot(bfac_df) +\n",
        "  # plot the data as a scatterplot\n",
        "  # replace xxx and yyy with the names of the two columns in the bfactor dataframe above\n",
        "  geom_point(aes(x = xxx, y = yyy)) +\n",
        "  # set the theme\n",
        "  theme_bw() +\n",
        "  # adjust the font sizes\n",
        "  theme(axis.text = element_text(size = 26),\n",
        "        axis.title = element_text(size = 30)) +\n",
        "  # label the axes\n",
        "  labs(x = \"Residue number\", y = \"pLDDT\")"
      ],
      "metadata": {
        "id": "9ShdCWlEohX_"
      },
      "execution_count": null,
      "outputs": []
    },
    {
      "cell_type": "markdown",
      "source": [
        "# Identifying the close contacts in the structure\n",
        "Visualizing a PDB structure can show you which amino acids are close to each other in 3-D space. Recording this information manually would be tedious and if you were analyzing a molecular dynamics trajectory time-consuming. Thus the `cmap` command which calculates all of the contacts between amino acids within main two cutoffs, `dcut` and `scut`. One thing to note is that we choose c-alpha carbons (`ca.ind`) earlier, so we are not looking at side chain contacts but those that are within the specific ranges of the c-alpha carbon. This selection could be adjusted to remove this constraint entirely, which will increase the number of contacts OR you could adjust the atom selection to focus on a specific domain within the protein.  \n",
        "\n",
        "### Setting Distance Constraints\n",
        "`dcut` is how large of a distance in angstroms between amino acids is allowed before the amino acids are not in contact. Too small of a value and you exclude neighbors, too large of a value and you start seeing indirect contacts or including amino acids that are not in direct contact with your target.\n",
        "Because amino acids are in a chain, each amino acid has 1-2 neighbor amino acids which are covalently connected. These sequential interactions should be obvious and can be excluded by setting `scut`. This value says amino acids below this value are likely sequence neighbors and should be excluded. The value of 3 is probably generally appropriate, but can be adjusted to suit the situation.\n",
        "\n",
        "The code below constructs the contact map and then exports the data for plotting. A basic plot of the contact map is produced.\n",
        "\n"
      ],
      "metadata": {
        "id": "H_R579CZpdWH"
      }
    },
    {
      "cell_type": "code",
      "source": [
        "## Contact map\n",
        "ref.cont <- cmap(pdb2$xyz[ca.inds$xyz], dcut=6, scut=3)\n",
        "\n",
        "# convert the contact map to a dataframe and save it to outputs\n",
        "ref_cont <- as_tibble(ref.cont)\n",
        "aanames <- seq(from = 1, to = length(ref.cont), by = 1)\n",
        "colnames(ref_cont) <- aanames\n",
        "\n",
        "write_csv(ref_cont, \"outputs/contact_matrix.csv\")\n",
        "\n",
        "# rough plot of the contact map\n",
        "plot.cmap(ref.cont)"
      ],
      "metadata": {
        "id": "05R-zU6tonE-"
      },
      "execution_count": null,
      "outputs": []
    },
    {
      "cell_type": "markdown",
      "source": [
        "Repeat the contact map but change the `dcut` and `scut` values to see how the map changes.\n",
        "\n"
      ],
      "metadata": {
        "id": "oJbwrkidzAZW"
      }
    },
    {
      "cell_type": "code",
      "source": [
        "## Contact map\n",
        "ref.cont <- cmap(pdb2$xyz[ca.inds$xyz], dcut=_, scut=_)\n",
        "\n",
        "# convert the contact map to a dataframe and save it to outputs\n",
        "ref_cont <- as_tibble(ref.cont)\n",
        "aanames <- seq(from = 1, to = length(ref.cont), by = 1)\n",
        "colnames(ref_cont) <- aanames\n",
        "\n",
        "write_csv(ref_cont, \"outputs/contact_matrix_newcuts.csv\")\n",
        "\n",
        "# rough plot of the contact map\n",
        "plot.cmap(ref.cont)"
      ],
      "metadata": {
        "id": "MjxoSer-zBM4"
      },
      "execution_count": null,
      "outputs": []
    },
    {
      "cell_type": "markdown",
      "source": [
        "Now repeat the analysis but use the original PDB file without any reductions or selections made. You will still need `$xyz` in the cmap command and only need to change the variable name from `pdb2` to `pdb`"
      ],
      "metadata": {
        "id": "9MC9aq8HzdWM"
      }
    },
    {
      "cell_type": "code",
      "source": [
        "# repeat the contact analysis but use the original pdb file (pdb)\n",
        "## Contact map\n",
        "ref.cont <- cmap(____$xyz, dcut=6, scut=3)\n",
        "\n",
        "# convert the contact map to a dataframe and save it to outputs\n",
        "ref_cont <- as_tibble(ref.cont)\n",
        "aanames <- seq(from = 1, to = length(ref.cont), by = 1)\n",
        "colnames(ref_cont) <- aanames\n",
        "\n",
        "write_csv(ref_cont, \"outputs/contact_matrix_all.csv\")\n",
        "\n",
        "# rough plot of the contact map\n",
        "plot.cmap(ref.cont)"
      ],
      "metadata": {
        "id": "7rXmwXk56R3R"
      },
      "execution_count": null,
      "outputs": []
    },
    {
      "cell_type": "markdown",
      "source": [
        "Why might reducing the structure to just the calphas be helpful? How might it reduce the usefulness of the analysis?"
      ],
      "metadata": {
        "id": "wThTc3C9y6eY"
      }
    },
    {
      "cell_type": "markdown",
      "source": [
        "---\n",
        "\n",
        "\n",
        "# Part 2: Normal Mode Analysis\n",
        "Proteins are not static molecules. Like all molecules, they have motions and vibrations which change their structure and could be indicative of functional changes. Dynamic regions in proteins may be loops in the active site which control catalysis or interactions with regulatory partners. Thus knowing where a protein is more or less flexible and comparing how ligands alter these dyanmics may provide information on enzyme mechanism and regulation.\n",
        "\n",
        "Experimental methods can show these changes in dynamics and molecular dynamics is a computational approach which can fill in the structural gaps that experiments cannot address. One barrier is that computational methods often require expertise, time, and resources which may be beyond some users (see the note at the end of this section). Second is that molecular dynamics runs do not necessarily identify all of the motions a molecule may have, especially large and complex molecules. This is where Normal Mode Analysis (NMA) can help. NMA \"simplifies\" the molecule and the simulation to allow for greater range of motion and access to conformations which may be difficult to see using MD. Thus NMA offers an alternative to MD which may be suitable for many users seeking simply to identify potential dynamic regions. These dynamics regions .\n",
        "\n",
        "*See this video for a [brief introduction](https://www.youtube.com/watch?v=z9OUSB-9L44) to NMA or these references [Hall, et al](https://pubmed.ncbi.nlm.nih.gov/17715919/); [Rodrigues, et al](https://onlinelibrary.wiley.com/doi/full/10.1002/pro.3942).*\n",
        "\n",
        "In this initial run, we will calculate the modes for our target protein based just on the c-alpha backbone. We can repeat the simulation using all-atom NMA. For most proteins, there will be only small differences in the calculate protein dynamics between the two runs and the c-alpha only NMA tends to run a bit faster especially for large molecules. In the end, we will calculate the root mean square flucuations for the molecule, which will indicate which areas were more dynamic in the simulation.\n",
        "\n",
        "From the NMA simulation, we can further save a trajectory which can be viewed in PyMol showing the conformational change and how the structure changes.\n",
        "\n",
        "\n",
        "\n",
        "---\n",
        "\n",
        "\n",
        "*A note on molecular dynamics: MD simulations have become easier to simulate using cloud-based resources. See this [colab](https://colab.research.google.com/drive/1-Nr3oze1IWND4-eTci9TyykFhtx9fVuX?usp=drive_link) for a Python-based walkthrough on protein MD in the cloud.*\n",
        "\n",
        "---\n"
      ],
      "metadata": {
        "id": "h0IXZ2IZomBy"
      }
    },
    {
      "cell_type": "code",
      "source": [
        "# calculate the normal modes for the PDB file\n",
        "modes <- nma(pdb2)\n",
        "\n",
        "# roughly plot the normal modes (top row) and the fluctuations (bottom row)\n",
        "# sse is the secondary structure information taken from the PDB file. SSE is not always available\n",
        "plot(modes, sse=pdb2)"
      ],
      "metadata": {
        "id": "8cvhhW_aUOAH"
      },
      "execution_count": null,
      "outputs": []
    },
    {
      "cell_type": "markdown",
      "source": [
        "Now repeat this analysis with all-atom NMA. The`aanma` and `plot` commands are already present in the code block. The variable names need to be filled in."
      ],
      "metadata": {
        "id": "xyEnA4EW0B-f"
      }
    },
    {
      "cell_type": "code",
      "source": [
        "# repeat with aanma\n",
        "# calculate the normal modes for the pdb2 file\n",
        "allaa_modes <- aanmanma(____)\n",
        "\n",
        "# roughly plot the normal modes (top row) and the fluctuations (bottom row)\n",
        "# sse is the secondary structure information taken from the PDB file. SSE is not always available\n",
        "# fill in allaa_modes in the first space and pdb2 in the second space\n",
        "plot(_____, sse=____)"
      ],
      "metadata": {
        "id": "Q30n4TAp59_C"
      },
      "execution_count": null,
      "outputs": []
    },
    {
      "cell_type": "markdown",
      "source": [
        "How did the NMA and all-atom NMA differ?\n",
        "\n",
        "How long did each simulation take?\n",
        "\n",
        "---\n",
        "\n",
        "Now, we will calculate the RMSF or root mean square fluctuation from the NMA run and then plot the data.  "
      ],
      "metadata": {
        "id": "03xxz1AK0bPV"
      }
    },
    {
      "cell_type": "code",
      "source": [
        "# calculate the fluctuations during the NMA simulation\n",
        "# flucuations are sometimes called root mean square flucuations or RMSF\n",
        "rf <- fluct.nma(modes)\n",
        "\n",
        "# convert the flucuations to a dataframe\n",
        "rf_df <- tibble(aa = seq(1, length(rf), by = 1),\n",
        "                rmsf = rf)\n",
        "# save the dataframe\n",
        "write_csv(rf_df, \"outputs/nma_flucuations.csv\")\n",
        "\n",
        "# plot the RMSF data\n",
        "ggplot(rf_df) +\n",
        "  geom_point(aes(x = aa, y = rf)) +\n",
        "  theme_bw()\n"
      ],
      "metadata": {
        "id": "JPSwP1HLfkQG"
      },
      "execution_count": null,
      "outputs": []
    },
    {
      "cell_type": "markdown",
      "source": [
        "Fill in the code below to generate the RMSF plot with the all-atom NMA data"
      ],
      "metadata": {
        "id": "CIHVZ2KS0kXb"
      }
    },
    {
      "cell_type": "code",
      "source": [
        "# calculate the fluctuations during the all-atom NMA simulation\n",
        "# flucuations are sometimes called root mean square flucuations or RMSF\n",
        "rf_all <- fluct.nma(______)\n",
        "\n",
        "# convert the flucuations to a dataframe\n",
        "rfall_df <- tibble(aa = seq(1, length(rf), by = 1),\n",
        "                rmsf = ______)\n",
        "# save the dataframe\n",
        "write_csv(rfall_df, \"outputs/all_atom_nma_flucuations.csv\")\n",
        "\n",
        "# plot the RMSF data\n",
        "ggplot(____) +\n",
        "  geom_point(aes(x = aa, y = rf)) +\n",
        "  theme_bw()"
      ],
      "metadata": {
        "id": "ipvHlR_C6Bke"
      },
      "execution_count": null,
      "outputs": []
    },
    {
      "cell_type": "markdown",
      "source": [
        "# Cross-correlation matrix\n",
        "The motion of some amino acids is correlated with others. This can because the amino acids are in contact with each other or sometimes disparate parts of the protein move in concert with each other. These latter correlations between amino acids motions are interesting and sometimes suggest allosteric connections, where one site on a protein regulates the behavior of the active site. These connections can sometimes be seen in the cross-correlation matrix and comparing the matrices between simulations under different conditions. In a cross-correlation matrix, the motions of each amino acid is plotted versus every other amino acid on a scale of -1 to 1. A value of -1 means the amino acid motions are anti-correlated, while a value of 1 means the amino acid motions are perfectly correlated."
      ],
      "metadata": {
        "id": "ylE2s3Ht4J5s"
      }
    },
    {
      "cell_type": "code",
      "source": [
        "# Calculate the cross-correlation matrix\n",
        "cm <- dccm(modes)\n",
        "\n",
        "# Plot a correlation map with plot.dccm\n",
        "plot(cm, sse=pdb2, contour=F, col.regions=bwr.colors(20), at=seq(-1,1,0.1) )\n"
      ],
      "metadata": {
        "id": "hZO3YG4kUZNO"
      },
      "execution_count": null,
      "outputs": []
    },
    {
      "cell_type": "markdown",
      "source": [
        "The C-alpha DCCM is what is used for most publications and experiments as it would be unusual to see a side chain be correlated distinctly from the alpha carbon."
      ],
      "metadata": {
        "id": "6ZwvDbSc3xvb"
      }
    },
    {
      "cell_type": "markdown",
      "source": [
        "In this final block for this section, we will save the trajectory of the NMA simulation to view in PyMol or another similar software. Unlike MD where all of the motions are apparent at the same time, in NMA there are select movements which correspond to each mode. Collectively these modes compose the potential overall dynamics of the protein."
      ],
      "metadata": {
        "id": "RhFXQlN_3i4E"
      }
    },
    {
      "cell_type": "code",
      "source": [
        "# save the trajectory\n",
        "mktrj(modes, mode=7, pdb=pdb2, file = \"outputs/mode7_traj.pdb\")"
      ],
      "metadata": {
        "id": "imjueKBvu7zX"
      },
      "execution_count": null,
      "outputs": []
    },
    {
      "cell_type": "markdown",
      "source": [
        "### Viewing the protein dynamics\n",
        "\n",
        "Click [here](https://github.com/CEBerndsen/chem_colab_data/blob/main/R_colabs/1q6c.gif) to see the resulting trajectory in GitHub.\n",
        "\n",
        "If you want to view this trajectory on your own and manipulate the view, click on the folder icon at left and navigate into the outputs folder. There should a file called \"mode7_traj.pdb\", click on the three dots to the right of the file name, and click download.\n",
        "\n",
        "**For those inexperienced with trajectories**\n",
        "\n",
        "Navigate to [Mol*](https://molstar.org/viewer/) and drag the downloaded file into Mol*. Once it loads, on the top right of the window there should be a Structure menu with a line called Model Index. Drag the model index to the right and the structure should run through the simulation.\n",
        "\n",
        "**For those experienced with trajectories**\n",
        "\n",
        "The file is a multi-model pdb file. It can be viewed and played in PyMol or other visualization programs.\n",
        "\n",
        "\n",
        "\n",
        "---\n",
        "\n",
        "\n",
        "Now, make additional trajectories of modes 8 and 9. You will need to provide the input variable (modes), the mode number, the pdb file which contains the atoms (it will be pdb2), and fill in the filename.\n",
        "\n",
        "Use the working code for saving the mode 7 trajectory above to help you."
      ],
      "metadata": {
        "id": "LhmAZiTNu6vz"
      }
    },
    {
      "cell_type": "code",
      "source": [
        "# save the trajectory for mode 8\n",
        "mktrj(_____, mode=___, pdb=____, file = \"outputs/_____.pdb\")\n",
        "\n",
        "# save the trajectory for mode 9\n",
        "mktrj(_____, mode=___, pdb=____, file = \"outputs/_____.pdb\")"
      ],
      "metadata": {
        "id": "aLEFv0ui4pyv"
      },
      "execution_count": null,
      "outputs": []
    },
    {
      "cell_type": "markdown",
      "source": [
        "## So, what have we seen and learned?\n",
        "\n",
        "\n",
        "\n",
        "1.   How to view the uncertainty in experimental and AlphaFold3 models\n",
        "2.   Calculated the normal modes of the protein to identify dynamic regions of the molecule\n",
        "3.   Visualized the dynamic regions and correlations between regions\n",
        "4.   Created data files to visualize the dynamics in PyMol or another similar program.\n",
        "\n",
        "\n",
        "## What comes next?\n",
        "1.  Explore the dynames in the visualization program\n",
        "2.  Plan mutants to alter regions of the protein\n",
        "3.  Carry out molecular dynamics simulations to support NMA results\n",
        "4.  Compare these results to structurally related proteins (next section)\n"
      ],
      "metadata": {
        "id": "_BjxA6oLfjuI"
      }
    },
    {
      "cell_type": "markdown",
      "source": [
        "\n",
        "\n",
        "---\n",
        "\n",
        "# Part 3: Exploring the structure and dynamics of related proteins\n",
        "\n",
        "Structurally related proteins may adopt distinct conformations in models and crystal structures, which can also describe the protein dynamics. In this part, we will use a single PDB file to identify related proteins and then compare the conformations of these proteins, which may be useful in describing the mechanism.\n",
        "\n",
        "---\n",
        "\n",
        "First, retrieve the sequence of a PDB file of interest. We will use 1SMK as an example but any PDB could work. To indicate while PDB we want we put the PDB ID in (1SMK) and the molecule name (A). The resulting name should be 1SMK_A and we put it inside the quotes."
      ],
      "metadata": {
        "id": "-cfeWx69UYwo"
      }
    },
    {
      "cell_type": "code",
      "source": [
        "seq <- get.seq(\"1smk_A\", verbose = FALSE)"
      ],
      "metadata": {
        "id": "tf5DCELJVIsH",
        "colab": {
          "base_uri": "https://localhost:8080/"
        },
        "outputId": "5d7bc313-d316-4d75-ef6e-ec3606821fea"
      },
      "execution_count": null,
      "outputs": [
        {
          "output_type": "stream",
          "name": "stdout",
          "text": [
            "Fetching... Please wait. Done.\n"
          ]
        }
      ]
    },
    {
      "cell_type": "markdown",
      "source": [
        "Next, we will retrieve information about the domains found in the protein by searching the Pfam database and then displaying the results."
      ],
      "metadata": {
        "id": "BxL2sLd79vTo"
      }
    },
    {
      "cell_type": "code",
      "source": [
        "# scan the Pfam database for our sequence\n",
        "pfam <- hmmer(seq, type=\"hmmscan\", db=\"pfam\")\n",
        "\n",
        "write_csv(pfam$hit.tbl, \"outputs/Pfam_results.csv\")\n",
        "\n",
        "pfam$hit.tbl"
      ],
      "metadata": {
        "id": "ANH_V9VchR3T"
      },
      "execution_count": null,
      "outputs": []
    },
    {
      "cell_type": "markdown",
      "source": [
        "What domains are identified in this protein?\n",
        "\n",
        "\n",
        "---\n",
        "\n"
      ],
      "metadata": {
        "id": "VxRuO_qil3jq"
      }
    },
    {
      "cell_type": "markdown",
      "source": [
        "Now, we will use the BLAST algorithm to search the PDB for structures with a similar sequence to our target protein. This can take up to several minutes.\n",
        "\n",
        "After it is complete, the window will report the number of potential hits. Ideally, there will be at least 10 hits so that we can survey many structures to see conformational differences."
      ],
      "metadata": {
        "id": "awpW3ukH-MbF"
      }
    },
    {
      "cell_type": "code",
      "source": [
        "blast <- blast.pdb(seq)"
      ],
      "metadata": {
        "id": "95PjeZdJhRts"
      },
      "execution_count": null,
      "outputs": []
    },
    {
      "cell_type": "markdown",
      "source": [
        "If there are less than 10 hits, you may consider alternative approaches such as molecular dynamics.\n",
        "\n",
        "\n",
        "\n",
        "---\n",
        "\n",
        "\n",
        "\n",
        "Now we will visualize the E-value, bitscore, identity, and length so that we can decide if we want to truncate the data. Bio3D will provide visuals on each of the parameters to help guide the experiment.\n",
        "\n",
        "Having a lot of structures if great, but if the similarity (*-log(E-value)*) and sequence identity (*identity*) are too low it will lead to comparisons between structures that are too different to be useful. In an ideal world we would have a lot of structures with same/similar sequences but with different conformations.\n",
        "\n",
        "---\n",
        "We can adjust the number of structures in our data set by raising (fewer structures) or lowering the cutoff value (more structures).\n",
        "\n",
        "### How do you choose the cutoff???\n",
        "The cutoff that you set is the highest E-value that you will accept. There are a few best practices for choosing one.\n",
        "\n",
        "\n",
        "*   Look for breaks in the data trends\n",
        "*   Try to keep the identity >50%\n",
        "*   To try include as many proteins as possible with similar lengths and high identity\n",
        "\n",
        "![Screenshot 2025-01-06 at 4.52.24 PM.png](data:image/png;base64,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)\n",
        "\n",
        "In the data above, there roughly 20 hits that fit the suggestions. Therefore, our cutoff should be around 100.\n",
        "\n",
        "Remember, you can always come back and change the cutoff if your choice leads to less than ideal results!\n",
        "\n",
        "---\n",
        "\n",
        "View the data, and set the cutoff based on the suggestions above.\n",
        "\n"
      ],
      "metadata": {
        "id": "aQtY0Mla-xiy"
      }
    },
    {
      "cell_type": "code",
      "source": [
        "hits <- plot.blast(blast, cutoff = 200)"
      ],
      "metadata": {
        "id": "r6e_DBPRlzmx"
      },
      "execution_count": null,
      "outputs": []
    },
    {
      "cell_type": "markdown",
      "source": [
        "We can now learn a bit about our hits:"
      ],
      "metadata": {
        "id": "nBHx8Qz9BQZv"
      }
    },
    {
      "cell_type": "code",
      "source": [
        "# PDB IDs\n",
        "head(hits$hits)"
      ],
      "metadata": {
        "id": "DAb4BBOcBRAF"
      },
      "execution_count": null,
      "outputs": []
    },
    {
      "cell_type": "markdown",
      "source": [
        "The above list are the first 6 PDB codes in the hit group. If you remove the head() around hits$hits, it will display the complete list.\n",
        "\n",
        "\n",
        "\n",
        "---\n",
        "\n",
        "Now let's view some details about each of the hits:"
      ],
      "metadata": {
        "id": "8HHJyBjlpLgP"
      }
    },
    {
      "cell_type": "code",
      "source": [
        "# resolution, ligands, and citrations\n",
        "\n",
        "anno <- pdb.annotate(hits)\n",
        "head(anno[, c(\"resolution\", \"ligandId\", \"citation\")])\n"
      ],
      "metadata": {
        "id": "jDjqjw15BaYs"
      },
      "execution_count": null,
      "outputs": []
    },
    {
      "cell_type": "markdown",
      "source": [
        "Now we have a list of the details of the PDB files including the citation for each structure. This information would be really helpful if we want to write a report based on these data or if you wanted to exclude certain species from the hits.\n",
        "\n",
        "\n",
        "---\n",
        "\n",
        "Let's save the information to a file.\n"
      ],
      "metadata": {
        "id": "KuEEjzT9pdnP"
      }
    },
    {
      "cell_type": "code",
      "source": [
        "# write the annotation information to a file and display\n",
        "write_csv(anno, \"outputs/PDB_hits_information.csv\")\n",
        "\n",
        "head(anno)"
      ],
      "metadata": {
        "id": "OAktcFfhBhtg"
      },
      "execution_count": null,
      "outputs": []
    },
    {
      "cell_type": "markdown",
      "source": [
        "Now that we have information about the hits, let's download the PDB files and align them.\n",
        "\n",
        "You will need to fill in your email address where it says `email` in the code block. The PDB files are being aligned in the cloud and the email address helps reduce people mis-using the system.\n",
        "\n",
        "There will be a long print out of the files and a folder will be created called `raw_pdbs`."
      ],
      "metadata": {
        "id": "KX0ryLWkCCut"
      }
    },
    {
      "cell_type": "code",
      "source": [
        "# Download PDBs and split by chain ID\n",
        "#files <- get.pdb(hits, path=\"raw_pdbs\", split = TRUE)\n",
        "\n",
        "# Extract and align sequences\n",
        "pdbs <- pdbaln(files, web.args=list(email='________'))\n"
      ],
      "metadata": {
        "id": "fPJh1UlBBhiz"
      },
      "execution_count": null,
      "outputs": []
    },
    {
      "cell_type": "markdown",
      "source": [
        "If the above fails due to an \"Error in .ebi_msa(aln, email = web.args$email, method = prg, protein = protein...\" Run the two code blocks below, otherwise it is not needed."
      ],
      "metadata": {
        "id": "JTNgeeIJMR3x"
      }
    },
    {
      "cell_type": "code",
      "source": [
        "#@title **If cloud-based alignment fails (SLOW!)...**\n",
        "#@markdown Press PLAY  and wait for step to finish before moving on.\n",
        "#@markdown This step takes ~10 minutes to download the programs\n",
        "\n",
        "install.packages(\"BiocManager\")\n",
        "library(BiocManager)\n",
        "BiocManager::install(c(\"msa\", \"Biostrings\"))"
      ],
      "metadata": {
        "cellView": "form",
        "id": "6Z2CGL7FLozQ"
      },
      "execution_count": null,
      "outputs": []
    },
    {
      "cell_type": "code",
      "source": [
        "#@title **Run this block to do the alignment locally (SLOW!)**\n",
        "\n",
        "\n",
        "# Download PDBs and split by chain ID\n",
        "#files <- get.pdb(hits, path=\"raw_pdbs\", split = TRUE)\n",
        "\n",
        "# Extract and align sequences\n",
        "pdbs <- pdbaln(files, exefile = 'msa')\n"
      ],
      "metadata": {
        "cellView": "form",
        "id": "QRI3yQzHMQxh"
      },
      "execution_count": null,
      "outputs": []
    },
    {
      "cell_type": "markdown",
      "source": [
        "Now that we have the PDBs aligned, we can describe the alignment in some detail, including the range of sequence identity."
      ],
      "metadata": {
        "id": "ETQUNyWJC15f"
      }
    },
    {
      "cell_type": "code",
      "source": [
        "# Sequence identity\n",
        "summary(c(seqidentity(pdbs)))"
      ],
      "metadata": {
        "id": "MTjVou5PWHOE"
      },
      "execution_count": null,
      "outputs": []
    },
    {
      "cell_type": "markdown",
      "source": [
        "If you find that the minimum identity value is too low, then adjust the cutoff value from earlier, and repeat the steps to now.\n",
        "\n",
        "\n",
        "---\n",
        "\n",
        "Now let's look at the conformational clustering of our structures. We will use principle component analysis or PCA for this. First we will find a common core of amino acids/structure to align all the PDB files too. Then we will calculate the principle components. Then we will display the data for comparing the first 3 principle components."
      ],
      "metadata": {
        "id": "WB1fW7VEDAxc"
      }
    },
    {
      "cell_type": "code",
      "source": [
        "pc.pdbs <- pca(pdbs, core.find = TRUE, fit = FALSE)\n",
        "plot(pc.pdbs)"
      ],
      "metadata": {
        "id": "KNx6-RbFFQXr"
      },
      "execution_count": null,
      "outputs": []
    },
    {
      "cell_type": "markdown",
      "source": [
        "The bottom right plot indicates how much of the differences are represented by different principle components. In the example structure, 1SMK, 84% of the conformation is accounted for in the first 3 principle components. If we expanded our viewing of the principle components to 5, we would cover closer to 95% of the motion.\n",
        "\n",
        "\n",
        "\n",
        "---\n",
        "\n",
        "Now let's save the principle components into a dataframe so we can replot them later. Notice how we extract the data into the columns of the data frame using `$` and `[]`.  \n"
      ],
      "metadata": {
        "id": "3FFo-RmsF19K"
      }
    },
    {
      "cell_type": "code",
      "source": [
        "# construct and save the dataframe with PCs 1-5\n",
        "# $ accesses the list of principle components\n",
        "# [,1] indicates column\n",
        "pc1 <- pc.pdbs$z[,1]\n",
        "\n",
        "# [,2] indicates column 2\n",
        "pc2 <- pc.pdbs$z[,2]\n",
        "\n",
        "pc3 <- pc.pdbs$z[,3]\n",
        "pc4 <- pc.pdbs$z[,4]\n",
        "pc5 <- pc.pdbs$z[,5]\n",
        "\n",
        "# get the rownames which correspond to the pdb file name\n",
        "pc0 <- rownames(pc.pdbs$z)\n",
        "\n",
        "\n",
        "# make the data frame\n",
        "pc_df <- tibble(pdb = pc0,\n",
        "                pc1 = pc1,\n",
        "                pc2 = pc2,\n",
        "                pc3 = pc3,\n",
        "                pc4 = pc4,\n",
        "                pc5 = pc5)\n",
        "\n",
        "# clean up the rownames to just be the PDB ID\n",
        "pc_df <- pc_df |>\n",
        "  # mutate changes a column, str_sub subsets strings\n",
        "  # start = -10 means start 10 from the end and end at -5\n",
        "  mutate(pdb = str_sub(pdb, start = -10, end = -5))\n",
        "\n",
        "\n",
        "# save the file in outputs\n",
        "write_csv(pc_df, \"outputs/PC_dataframe.csv\")"
      ],
      "metadata": {
        "id": "cMS1Hr9Et3hK"
      },
      "execution_count": null,
      "outputs": []
    },
    {
      "cell_type": "code",
      "source": [
        "# view the first 6 rows of the dataframe\n",
        "head(pc_df)"
      ],
      "metadata": {
        "id": "ziEdqdxxPx4E"
      },
      "execution_count": null,
      "outputs": []
    },
    {
      "cell_type": "markdown",
      "source": [
        "Now we can perform NMA on this ensemble of PDB files. This allows you to identify proteins which may have different dynamics because the sequence is different.\n",
        "\n",
        "---\n",
        "\n",
        "*Note:* You could also do this type of analysis with a series of modeled structures, align them, and then do NMA to identify mutants which alter the protein dynamics.\n"
      ],
      "metadata": {
        "id": "jR3IC_C4U-eq"
      }
    },
    {
      "cell_type": "code",
      "source": [
        "modes <- nma(pdbs, rm.gaps=FALSE)"
      ],
      "metadata": {
        "id": "vH1u-aPKVMMT"
      },
      "execution_count": null,
      "outputs": []
    },
    {
      "cell_type": "markdown",
      "source": [
        "Now plot the data to see how it looks."
      ],
      "metadata": {
        "id": "u-Xgk7-5bE-f"
      }
    },
    {
      "cell_type": "code",
      "source": [
        "plot(modes)"
      ],
      "metadata": {
        "id": "iItPw89aV-WO"
      },
      "execution_count": null,
      "outputs": []
    },
    {
      "cell_type": "markdown",
      "source": [
        "There are some differences between the different proteins. Any gaps you see are introduced during alignment and are due to differences in protein length.\n",
        "\n",
        "---\n",
        "\n",
        "Let's save these data, so that we can plot in a better way later."
      ],
      "metadata": {
        "id": "cDNhgvRSW7JU"
      }
    },
    {
      "cell_type": "code",
      "source": [
        "nma_df <- as_tibble(modes$fluctuations)\n",
        "\n",
        "# get pdb names\n",
        "nma_df$pdb <- rownames(modes$fluctuations)\n",
        "\n",
        "#  transpose the data so that it can be plotted easier\n",
        "nma_dft <- nma_df |>\n",
        "  # transpose the data\n",
        "  pivot_longer(!pdb, names_to = \"aa\", values_to = \"rmsf\") |>\n",
        "  pivot_wider(names_from = \"pdb\", values_from = \"rmsf\") |>\n",
        "  # change the aa value to a number\n",
        "  mutate(aa = str_remove_all(aa, \"[V]\"))\n",
        "\n",
        "# save the data\n",
        "write_csv(nma_dft, \"outputs/NMA_PDB_ensemble.csv\")"
      ],
      "metadata": {
        "id": "BEULv107WZQF"
      },
      "execution_count": null,
      "outputs": []
    },
    {
      "cell_type": "markdown",
      "source": [
        "We can also plot the conservation of the PDB files versus amino acid on a scale of 0 to 1. 1 is perfect conservation."
      ],
      "metadata": {
        "id": "WNmGb4EBbyBf"
      }
    },
    {
      "cell_type": "code",
      "source": [
        "cons <- conserv(pdbs$ali)\n",
        "\n",
        "# make a data frame\n",
        "cons_df <- tibble(aa = seq(from = 1, to = length(cons), by = 1),\n",
        "                  conservation = cons)\n",
        "# save the file\n",
        "write_csv(cons_df, \"outputs/conservation.csv\")\n",
        "\n",
        "# rough plot of the data\n",
        "plot.bio3d(cons, ylab=\"Conservation\")\n"
      ],
      "metadata": {
        "id": "Zq99TOH9byfo"
      },
      "execution_count": null,
      "outputs": []
    },
    {
      "cell_type": "markdown",
      "source": [
        "The correlation between the NMA and the sequence conservation can give some indication about whether there are naturally, conserved dynamic regions in the protein or if they are largely non-conserved. This can indicate whether the dynamic feature has a conserved role in protein function.\n",
        "\n",
        "---\n",
        "\n",
        "### What if I want to focus on one specific PDB identified in this part?\n",
        "In the raw_pdbs folder, there are all of the PDB files used in the analysis above. Further in the split_chain folder, there are the single A chains of each of these PDB files. The code below shows how you could perform NMA on one of those PDB files and save the trajectory as we did before."
      ],
      "metadata": {
        "id": "O3orsjtJcrkI"
      }
    },
    {
      "cell_type": "code",
      "source": [
        "# load the pdb\n",
        "target <- read.pdb(\"raw_pdbs/split_chain/1EMD_A.pdb\")\n",
        "\n",
        "# calculate the normal modes for the PDB file\n",
        "modes <- nma(target)\n",
        "\n",
        "# roughly plot the normal modes (top row) and the fluctuations (bottom row)\n",
        "# sse is the secondary structure information taken from the PDB file. SSE is not always available\n",
        "plot(modes)\n",
        "\n",
        "# save the trajectory\n",
        "mktrj(modes, mode=7, pdb=pdb, file = \"outputs/target_mode7_traj.pdb\")"
      ],
      "metadata": {
        "id": "6ApqzjRlWY_D"
      },
      "execution_count": null,
      "outputs": []
    }
  ]
}