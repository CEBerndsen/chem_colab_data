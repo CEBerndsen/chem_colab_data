{
  "nbformat": 4,
  "nbformat_minor": 0,
  "metadata": {
    "colab": {
      "provenance": []
    },
    "kernelspec": {
      "name": "ir",
      "display_name": "R"
    },
    "language_info": {
      "name": "R"
    }
  },
  "cells": [
    {
      "cell_type": "markdown",
      "source": [
        "# **Introduction**\n",
        "\n",
        "Welcome to the world of Molecular Dynamics! This lesson is to teach you the basic protocol of running a molecular dynamics (MD) simulation, including a bit of Python coding. If you don't know how to code, don't worry! These lessons assume no prior knowledge of code or Python.\n",
        "\n",
        "\n",
        "A few things to start:\n",
        "\n",
        "1.   These lessons only work in Google Chrome\n",
        "2.   If you want to save your progress, go to File> Save a Copy in Drive; then locate a spot in your Drive folder\n",
        "3.   Clicking the \"play\" button to the top left of a code block runs the code. Sometimes you can see the code and interact with it. However, if the code is hidden  it is to run adminstrative tasks in the background and you do not need to worry unless you are interested.\n",
        "4. Sometimes the code may be hidden from view. To view it, click the '>' on the left of the title, until it changes to 'v'. This will reveal the code in that line.\n",
        "\n",
        "Here are the files you will need for this code to run:\n",
        "*   **.dcd** is a file format that store simulation trajectories. Simulation trajectories are a dynamic view of various properties in your protein, including atom coordinates, box size, velocities, and forces. Trajectory files looks at these variables as they change throughout time. You should have this file from your MD run.\n",
        "*  A PDB ID or a .pdb file containing a set of atomic coordinates of your molecule. **.pdb** stands for a Protein Data Bank file. It is a file containing the three-dimensional structural data of your protein directly from the Protein Data Bank. If you run into errors with your PDB file, ask your instructor.\n",
        "\n",
        "\n",
        "\n",
        "If you would like a tutorial on Python basics, please reference [this colab](https://colab.research.google.com/drive/1VaInetSJPAymyW51BRegmV4RLZXKdNLm?usp=sharing). It is not necessary to do this, however if you are interested in learning more about coding it is a great resource to use!\n",
        "\n",
        "---\n"
      ],
      "metadata": {
        "id": "j9SUcCCvWS0t"
      }
    },
    {
      "cell_type": "code",
      "execution_count": null,
      "metadata": {
        "id": "mjSXlRmb8Bwp",
        "cellView": "form"
      },
      "outputs": [],
      "source": [
        "#@title **Loading your packages (press PLAY)**\n",
        "#@markdown Run this cell to install and load the R packages you will need for the analysis.\n",
        "#@markdown To run a cell, place your cursor over the [ ] on the left, and press the play button (the brackets should turn into a play button).\n",
        "#@markdown These packages will load some settings that are needed to run the rest of the code. You don't need to do anything except hit PLAY! Wait for the code to finish running before going to the next step.\n",
        "#load packages\n",
        "\n",
        "library(tidyverse, quietly = TRUE)\n",
        "install.packages(\"bio3d\", quiet = TRUE)\n",
        "#install.packages(\"igraph\", quiet = TRUE)\n",
        "library(bio3d, quietly = TRUE)\n",
        "#library(igraph, quietly = TRUE)"
      ]
    },
    {
      "cell_type": "markdown",
      "source": [
        "# Getting started - loading your files\n",
        "\n",
        "In order to analyze your protein structures, you will need to upload the files containing what your protein looks like to your colab.\n",
        "\n",
        "Here are the two types of files you should have. If you don't have these files, make sure that you ran the MD analysis colab before this one!\n",
        "\n",
        "\n",
        "\n",
        "*   **.dcd** is a file format that store simulation trajectories. Simulation\n",
        "trajectories are a dynamic view of various properties in your protein, including atom coordinates, box size, velocities, and forces. Trajectory files looks at these variables as they change throughout time.\n",
        "*   **.pdb** stands for a Protein Data Bank file. It is a file containing the three-dimensional structural data of your protein directly from the Protein Data Bank.\n",
        "\n",
        "---\n",
        "\n",
        "Here are the setps to get the program will recognize your .dcd and .pdb files:\n",
        "\n",
        "1. On the far left, click on the file folder. Right click inside the folder and create a folder called \"inputs\".\n",
        "2. Create a second fold called \"outputs\".\n",
        "3. Upload your .dcd file (with no solvent) and your first frame .pdb file into the inputs folder. Wait until the data is fully uploaded before proceeding. You will be able to see if it is uploaded by looking at the loading circle on the bottom left corner of your screen.\n",
        "4. In the box containing the code, replace the x's in xxxx.dcd in the code with your filename (including the .dcd).\n",
        "5. In the box containing the code, replace the x's in xxxx.pdb in the code with your filename (including the .pdb).\n",
        "6. Run the code. The code will load your .pdb and .dcd files."
      ],
      "metadata": {
        "id": "Fy53zP7CkyXj"
      }
    },
    {
      "cell_type": "code",
      "source": [
        "# read the dcd file\n",
        "dcd <- read.dcd(\"inputs/xxxx.dcd\")\n",
        "## load the pdb file\n",
        "pdb <- read.pdb(\"inputs/xxxx.pdb\")"
      ],
      "metadata": {
        "id": "Ny7vL3KkQ6lK",
        "colab": {
          "base_uri": "https://localhost:8080/",
          "height": 159
        },
        "outputId": "ddb80814-ee5f-4e08-8f5b-bff3225e4fa6"
      },
      "execution_count": null,
      "outputs": [
        {
          "output_type": "error",
          "ename": "ERROR",
          "evalue": "Error in read.dcd(\"inputs/xxxx.dcd\"): No input DCD file found with name: inputs/xxxx.dcd\n",
          "traceback": [
            "Error in read.dcd(\"inputs/xxxx.dcd\"): No input DCD file found with name: inputs/xxxx.dcd\nTraceback:\n",
            "1. read.dcd(\"inputs/xxxx.dcd\")",
            "2. stop(paste(\"No input DCD file found with name:\", trjfile))"
          ]
        }
      ]
    },
    {
      "cell_type": "markdown",
      "source": [
        "# Selecting atoms to analyze\n",
        "\n",
        "This code will select the appropriate atoms in your molecule. Many times, we analyze proteins or biomolecules and only include the atoms in the \"backbone\" to reduce noise from mobile side chains (also known as R groups). For proteins these are the alpha carbons (CA or Calpha). This is the default in the code below, but if you are interested in a single piece/section of the protein such as an active site loop, you should select those atoms as indicated in the code after the ###. To use that code, put a # before the second line, delete the ### and select the atoms you would like to analyze (elety is the type of amino acids, and resno is the range of amino acids).\n",
        "\n",
        "If no edits are necessary, press PLAY."
      ],
      "metadata": {
        "id": "W9e2A0eEk630"
      }
    },
    {
      "cell_type": "code",
      "source": [
        "# select the Calpha carbons for analysis\n",
        "ca.inds <- atom.select(pdb, elety=\"CA\") #put a # in front of this line if you use the one below\n",
        "### ca.inds <- atom.select(pdb, elety = \"CA\", resno = 85:100) # selects Calphas of amino acids 85 to 100"
      ],
      "metadata": {
        "id": "3CKtoyakkdrA"
      },
      "execution_count": null,
      "outputs": []
    },
    {
      "cell_type": "markdown",
      "source": [
        "# Aligning the trajectory\n",
        "\n",
        "Now that the atom selections are set, we will now analyze the data on that selection. In most cases, the code runs without needing further user input and when it is needed, there will be indications.\n",
        "\n",
        "Press PLAY."
      ],
      "metadata": {
        "id": "yhbWGJZyZ-AX"
      }
    },
    {
      "cell_type": "code",
      "source": [
        "# align all the frames on the initial pdb final\n",
        "# align all the frames on the pdb file\n",
        "xyz <- fit.xyz(fixed=pdb$xyz, mobile=dcd,\n",
        "               fixed.inds=ca.inds$xyz,\n",
        "               mobile.inds=ca.inds$xyz)\n",
        "\n",
        "# calculate the RMSD for each frame and plot the data\n",
        "rd <- rmsd(xyz[1,ca.inds$xyz], xyz[,ca.inds$xyz])\n",
        "fr <- length(rd)\n",
        "rd.plot <- tibble(frame = seq(from = 1, to = fr, by = 1),\n",
        "                  rmsd = rd)\n",
        "\n",
        "ggplot(rd.plot) +\n",
        "  geom_line(aes(x = frame, y = rd)) +\n",
        "  theme_classic() +\n",
        "  scale_x_continuous(expand = c(0.01,0)) +\n",
        "  scale_y_continuous(expand = c(0,0)) +\n",
        "  labs(x = \"Frame Number\", y = \"RMSD\")\n",
        "\n",
        "write_csv(rd.plot, \"outputs/rmsd_data.csv\")"
      ],
      "metadata": {
        "id": "9dJKvYSfaVq5"
      },
      "execution_count": null,
      "outputs": []
    },
    {
      "cell_type": "markdown",
      "source": [
        "# Analyzing the dynamics\n",
        "\n",
        "In the next several blocks, we will look at the dynamics on residue and whole protein level. No edits should be necessary."
      ],
      "metadata": {
        "id": "56yeoGgpZl3-"
      }
    },
    {
      "cell_type": "code",
      "source": [
        "# calculate the root mean square flucuation\n",
        "rf <- rmsf(xyz[,ca.inds$xyz])\n",
        "aas <- length(rf)\n",
        "rf.plot <- tibble(aa_num = seq(from = 1, to = aas, by = 1),\n",
        "                  rmsf = rf)\n",
        "\n",
        "ggplot(rf.plot) +\n",
        "  geom_line(aes(x = aa_num, y = rf)) +\n",
        "  theme_classic() +\n",
        "  scale_x_continuous(expand = c(0.01,0)) +\n",
        "  scale_y_continuous(expand = c(0,0)) +\n",
        "  labs(x = \"Residue number\", y = \"RMSF\")\n",
        "\n",
        "write_csv(rf.plot, \"outputs/rmsf_data.csv\")"
      ],
      "metadata": {
        "id": "u1h74UljcjtH"
      },
      "execution_count": null,
      "outputs": []
    },
    {
      "cell_type": "markdown",
      "source": [
        "## Principle component analysis (pca)\n",
        "In this section, the dynamics will be broken down into specific motions or components that occur during the simulation. This can often reveal conformational changes that are occuring.\n",
        "These motions can then be further be broken down to the amino acid level to indicate where specific dynamics are occuring over the entire simulation. For example, if there is a specific amino acid that is causing a change in protein structure, this component analysis will let us know. Edits may be needed, so pay attention to the comments in the hashtags!"
      ],
      "metadata": {
        "id": "hBWzeHFWZ61_"
      }
    },
    {
      "cell_type": "code",
      "source": [
        "# principle component analysis\n",
        "pc <- pca.xyz(xyz[,ca.inds$xyz])\n",
        "\n",
        "# plot a quick summary\n",
        "pc <- pca.xyz(xyz[,ca.inds$xyz])\n",
        "plot(pc, col=bwr.colors(nrow(xyz)) )\n",
        "\n",
        "# make the pca data\n",
        "# if the eigenrank plot (bottom right) indicates that more than 5 PCs are important,\n",
        "##just add \"pc(number) = pc$z[,(column number)]\" to the frame below, and make sure to add commas and parentheses where needed.\n",
        "pca_df <- tibble(frame = seq(from = 1, to = fr, by = 1),\n",
        "                 pc1 = pc$z[,1],\n",
        "                 pc2 = pc$z[,2],\n",
        "                 pc3 = pc$z[,3],\n",
        "                 pc4 = pc$z[,4],\n",
        "                 pc5 = pc$z[,5])\n",
        "\n",
        "write_csv(pca_df, \"outputs/pca_data.csv\")"
      ],
      "metadata": {
        "id": "d_T_oMdCcuVg"
      },
      "execution_count": null,
      "outputs": []
    },
    {
      "cell_type": "code",
      "source": [
        "# plot pca at higher resolution in ggplot\n",
        "# can change principle component comparisons by changing the number after pc in the geom_point in line 7 (example: x = pc1 --> x = pc2)\n",
        "# points colored red -> blue, frame 1 -> last frame\n",
        "m = fr/2\n",
        "\n",
        "ggplot(pca_df) +\n",
        "  geom_point(aes(x = pc1, y = pc2, color = frame), size = 3) +\n",
        "  scale_color_gradient2(low = \"red\", mid = \"white\", high = \"blue\", limits = c(0, fr), midpoint = m) +\n",
        "  theme_classic() +\n",
        "  theme(axis.title = element_text(size = 25),\n",
        "        axis.text = element_text(size = 20),\n",
        "        legend.position = \"bottom\")\n"
      ],
      "metadata": {
        "id": "OrS1wyUwgdzW"
      },
      "execution_count": null,
      "outputs": []
    },
    {
      "cell_type": "code",
      "source": [
        "# Residue level PCA\n",
        "# make the pca data\n",
        "pca_res_df <- tibble(residue = seq(from = 1, to = aas, by = 1),\n",
        "                 pc1 = pc$au[,1],\n",
        "                 pc2 = pc$au[,2],\n",
        "                 pc3 = pc$au[,3],\n",
        "                 pc4 = pc$au[,4],\n",
        "                 pc5 = pc$au[,5])\n",
        "\n",
        "write_csv(pca_res_df, \"outputs/pca__residue_data.csv\")\n",
        "\n",
        "# make the data long\n",
        "pca_res_df_long <- pca_res_df %>%\n",
        "  pivot_longer(2:3, names_to = \"PC\", values_to = \"value\")\n",
        "\n",
        "ggplot(pca_res_df_long) +\n",
        "  geom_line(aes(x = residue, y = value, color = PC)) +\n",
        "  theme_classic() +\n",
        "  theme(axis.title = element_text(size = 25),\n",
        "        axis.text = element_text(size = 20),\n",
        "        legend.position = \"bottom\") +\n",
        "  labs(x = \"Residue number\", y = \"PC\") +\n",
        "  facet_grid(.~PC)"
      ],
      "metadata": {
        "id": "DKbKQcUAaoMJ"
      },
      "execution_count": null,
      "outputs": []
    },
    {
      "cell_type": "markdown",
      "source": [
        "# Correlation calculations\n",
        "So far the calculations have focused on where and when motion is occuring. The next set of analyses take a look at the correlation in the motion between individual amino acids and communities of amino acids.\n",
        "The dynamic cross correlation presents a heat map of which amino acids are correlated or anti-correlated in motion.\n",
        "The network analysis aims to identify common groups in the protein that move together, which is sometimes indicative of functional domains and allostery.\n",
        "\n",
        "No edits should be necessary. Press PLAY. Ignore the warning message.\n"
      ],
      "metadata": {
        "id": "JZrYDqJNFjiY"
      }
    },
    {
      "cell_type": "code",
      "source": [
        "# dynamic cross correlation matrix\n",
        "cij<-dccm(xyz[,ca.inds$xyz])\n",
        "\n",
        "# convert to a csv file\n",
        "cij_df <- as_tibble(cij)\n",
        "res <- length(cij_df)\n",
        "colnames(cij_df) <- seq(from = 1, to = res, by = 1)\n",
        "cij_df$res <- seq(from = 1, to = res, by = 1)\n",
        "\n",
        "write_csv(cij_df, \"outputs/dccm_data.csv\")\n",
        "\n",
        "cij_long <- cij_df %>%\n",
        "  pivot_longer(1:614, names_to = \"resy\", values_to = \"dcc\") %>%\n",
        "  mutate(resy = as.numeric(resy),\n",
        "         dcc = as.numeric(dcc))\n",
        "\n",
        "ggplot(cij_long) +\n",
        "  geom_tile(aes(x = res, y = resy, fill = dcc)) +\n",
        "  scale_fill_gradient2(low = \"red\", mid = \"white\", high = \"blue\", limits = c(-1,1)) +\n",
        "  theme_minimal() +\n",
        "  labs(x = \"Residue number\", y = \"Residue number\")\n"
      ],
      "metadata": {
        "id": "FRjbFseuglJu"
      },
      "execution_count": null,
      "outputs": []
    },
    {
      "cell_type": "markdown",
      "source": [
        "# **DOWNLOAD YOUR DATA FROM THE OUTPUTS FOLDER!! :-)**\n",
        "\n"
      ],
      "metadata": {
        "id": "gjq2J55RUNnQ"
      }
    }
  ]
}